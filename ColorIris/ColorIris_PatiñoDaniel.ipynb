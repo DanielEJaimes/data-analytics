{
  "nbformat": 4,
  "nbformat_minor": 0,
  "metadata": {
    "colab": {
      "provenance": []
    },
    "kernelspec": {
      "name": "python3",
      "display_name": "Python 3"
    },
    "language_info": {
      "name": "python"
    }
  },
  "cells": [
    {
      "cell_type": "code",
      "execution_count": 226,
      "metadata": {
        "id": "0qR6pZyMzjfp"
      },
      "outputs": [],
      "source": [
        "import numpy as np\n",
        "import pandas as pd\n",
        "import matplotlib.pyplot as plt\n",
        "import math"
      ]
    },
    {
      "cell_type": "markdown",
      "source": [
        "# Lectura del documento"
      ],
      "metadata": {
        "id": "6fi-DZpkLDqh"
      }
    },
    {
      "cell_type": "code",
      "source": [
        "data = pd.read_csv('color_iris.csv')\n",
        "\n",
        "columnas = ['Sepal length','Sepal width','Petal length','Petal widht','Flower']\n",
        "data.columns=columnas\n",
        "data"
      ],
      "metadata": {
        "colab": {
          "base_uri": "https://localhost:8080/",
          "height": 424
        },
        "id": "nStt3ZT9z5mK",
        "outputId": "a38e9dda-6b01-4fe0-9654-1879bbf53bed"
      },
      "execution_count": 227,
      "outputs": [
        {
          "output_type": "execute_result",
          "data": {
            "text/plain": [
              "     Sepal length  Sepal width  Petal length  Petal widht          Flower\n",
              "0             4.9          3.0           1.4          0.2     Iris-setosa\n",
              "1             4.7          3.2           1.3          0.2     Iris-setosa\n",
              "2             4.6          3.1           1.5          0.2     Iris-setosa\n",
              "3             5.0          3.6           1.4          0.2     Iris-setosa\n",
              "4             5.4          3.9           1.7          0.4     Iris-setosa\n",
              "..            ...          ...           ...          ...             ...\n",
              "144           6.7          3.0           5.2          2.3  Iris-virginica\n",
              "145           6.3          2.5           5.0          1.9  Iris-virginica\n",
              "146           6.5          3.0           5.2          2.0  Iris-virginica\n",
              "147           6.2          3.4           5.4          2.3  Iris-virginica\n",
              "148           5.9          3.0           5.1          1.8  Iris-virginica\n",
              "\n",
              "[149 rows x 5 columns]"
            ],
            "text/html": [
              "\n",
              "  <div id=\"df-03044770-7bc6-4a61-a659-c364aa7cad82\">\n",
              "    <div class=\"colab-df-container\">\n",
              "      <div>\n",
              "<style scoped>\n",
              "    .dataframe tbody tr th:only-of-type {\n",
              "        vertical-align: middle;\n",
              "    }\n",
              "\n",
              "    .dataframe tbody tr th {\n",
              "        vertical-align: top;\n",
              "    }\n",
              "\n",
              "    .dataframe thead th {\n",
              "        text-align: right;\n",
              "    }\n",
              "</style>\n",
              "<table border=\"1\" class=\"dataframe\">\n",
              "  <thead>\n",
              "    <tr style=\"text-align: right;\">\n",
              "      <th></th>\n",
              "      <th>Sepal length</th>\n",
              "      <th>Sepal width</th>\n",
              "      <th>Petal length</th>\n",
              "      <th>Petal widht</th>\n",
              "      <th>Flower</th>\n",
              "    </tr>\n",
              "  </thead>\n",
              "  <tbody>\n",
              "    <tr>\n",
              "      <th>0</th>\n",
              "      <td>4.9</td>\n",
              "      <td>3.0</td>\n",
              "      <td>1.4</td>\n",
              "      <td>0.2</td>\n",
              "      <td>Iris-setosa</td>\n",
              "    </tr>\n",
              "    <tr>\n",
              "      <th>1</th>\n",
              "      <td>4.7</td>\n",
              "      <td>3.2</td>\n",
              "      <td>1.3</td>\n",
              "      <td>0.2</td>\n",
              "      <td>Iris-setosa</td>\n",
              "    </tr>\n",
              "    <tr>\n",
              "      <th>2</th>\n",
              "      <td>4.6</td>\n",
              "      <td>3.1</td>\n",
              "      <td>1.5</td>\n",
              "      <td>0.2</td>\n",
              "      <td>Iris-setosa</td>\n",
              "    </tr>\n",
              "    <tr>\n",
              "      <th>3</th>\n",
              "      <td>5.0</td>\n",
              "      <td>3.6</td>\n",
              "      <td>1.4</td>\n",
              "      <td>0.2</td>\n",
              "      <td>Iris-setosa</td>\n",
              "    </tr>\n",
              "    <tr>\n",
              "      <th>4</th>\n",
              "      <td>5.4</td>\n",
              "      <td>3.9</td>\n",
              "      <td>1.7</td>\n",
              "      <td>0.4</td>\n",
              "      <td>Iris-setosa</td>\n",
              "    </tr>\n",
              "    <tr>\n",
              "      <th>...</th>\n",
              "      <td>...</td>\n",
              "      <td>...</td>\n",
              "      <td>...</td>\n",
              "      <td>...</td>\n",
              "      <td>...</td>\n",
              "    </tr>\n",
              "    <tr>\n",
              "      <th>144</th>\n",
              "      <td>6.7</td>\n",
              "      <td>3.0</td>\n",
              "      <td>5.2</td>\n",
              "      <td>2.3</td>\n",
              "      <td>Iris-virginica</td>\n",
              "    </tr>\n",
              "    <tr>\n",
              "      <th>145</th>\n",
              "      <td>6.3</td>\n",
              "      <td>2.5</td>\n",
              "      <td>5.0</td>\n",
              "      <td>1.9</td>\n",
              "      <td>Iris-virginica</td>\n",
              "    </tr>\n",
              "    <tr>\n",
              "      <th>146</th>\n",
              "      <td>6.5</td>\n",
              "      <td>3.0</td>\n",
              "      <td>5.2</td>\n",
              "      <td>2.0</td>\n",
              "      <td>Iris-virginica</td>\n",
              "    </tr>\n",
              "    <tr>\n",
              "      <th>147</th>\n",
              "      <td>6.2</td>\n",
              "      <td>3.4</td>\n",
              "      <td>5.4</td>\n",
              "      <td>2.3</td>\n",
              "      <td>Iris-virginica</td>\n",
              "    </tr>\n",
              "    <tr>\n",
              "      <th>148</th>\n",
              "      <td>5.9</td>\n",
              "      <td>3.0</td>\n",
              "      <td>5.1</td>\n",
              "      <td>1.8</td>\n",
              "      <td>Iris-virginica</td>\n",
              "    </tr>\n",
              "  </tbody>\n",
              "</table>\n",
              "<p>149 rows × 5 columns</p>\n",
              "</div>\n",
              "      <button class=\"colab-df-convert\" onclick=\"convertToInteractive('df-03044770-7bc6-4a61-a659-c364aa7cad82')\"\n",
              "              title=\"Convert this dataframe to an interactive table.\"\n",
              "              style=\"display:none;\">\n",
              "        \n",
              "  <svg xmlns=\"http://www.w3.org/2000/svg\" height=\"24px\"viewBox=\"0 0 24 24\"\n",
              "       width=\"24px\">\n",
              "    <path d=\"M0 0h24v24H0V0z\" fill=\"none\"/>\n",
              "    <path d=\"M18.56 5.44l.94 2.06.94-2.06 2.06-.94-2.06-.94-.94-2.06-.94 2.06-2.06.94zm-11 1L8.5 8.5l.94-2.06 2.06-.94-2.06-.94L8.5 2.5l-.94 2.06-2.06.94zm10 10l.94 2.06.94-2.06 2.06-.94-2.06-.94-.94-2.06-.94 2.06-2.06.94z\"/><path d=\"M17.41 7.96l-1.37-1.37c-.4-.4-.92-.59-1.43-.59-.52 0-1.04.2-1.43.59L10.3 9.45l-7.72 7.72c-.78.78-.78 2.05 0 2.83L4 21.41c.39.39.9.59 1.41.59.51 0 1.02-.2 1.41-.59l7.78-7.78 2.81-2.81c.8-.78.8-2.07 0-2.86zM5.41 20L4 18.59l7.72-7.72 1.47 1.35L5.41 20z\"/>\n",
              "  </svg>\n",
              "      </button>\n",
              "      \n",
              "  <style>\n",
              "    .colab-df-container {\n",
              "      display:flex;\n",
              "      flex-wrap:wrap;\n",
              "      gap: 12px;\n",
              "    }\n",
              "\n",
              "    .colab-df-convert {\n",
              "      background-color: #E8F0FE;\n",
              "      border: none;\n",
              "      border-radius: 50%;\n",
              "      cursor: pointer;\n",
              "      display: none;\n",
              "      fill: #1967D2;\n",
              "      height: 32px;\n",
              "      padding: 0 0 0 0;\n",
              "      width: 32px;\n",
              "    }\n",
              "\n",
              "    .colab-df-convert:hover {\n",
              "      background-color: #E2EBFA;\n",
              "      box-shadow: 0px 1px 2px rgba(60, 64, 67, 0.3), 0px 1px 3px 1px rgba(60, 64, 67, 0.15);\n",
              "      fill: #174EA6;\n",
              "    }\n",
              "\n",
              "    [theme=dark] .colab-df-convert {\n",
              "      background-color: #3B4455;\n",
              "      fill: #D2E3FC;\n",
              "    }\n",
              "\n",
              "    [theme=dark] .colab-df-convert:hover {\n",
              "      background-color: #434B5C;\n",
              "      box-shadow: 0px 1px 3px 1px rgba(0, 0, 0, 0.15);\n",
              "      filter: drop-shadow(0px 1px 2px rgba(0, 0, 0, 0.3));\n",
              "      fill: #FFFFFF;\n",
              "    }\n",
              "  </style>\n",
              "\n",
              "      <script>\n",
              "        const buttonEl =\n",
              "          document.querySelector('#df-03044770-7bc6-4a61-a659-c364aa7cad82 button.colab-df-convert');\n",
              "        buttonEl.style.display =\n",
              "          google.colab.kernel.accessAllowed ? 'block' : 'none';\n",
              "\n",
              "        async function convertToInteractive(key) {\n",
              "          const element = document.querySelector('#df-03044770-7bc6-4a61-a659-c364aa7cad82');\n",
              "          const dataTable =\n",
              "            await google.colab.kernel.invokeFunction('convertToInteractive',\n",
              "                                                     [key], {});\n",
              "          if (!dataTable) return;\n",
              "\n",
              "          const docLinkHtml = 'Like what you see? Visit the ' +\n",
              "            '<a target=\"_blank\" href=https://colab.research.google.com/notebooks/data_table.ipynb>data table notebook</a>'\n",
              "            + ' to learn more about interactive tables.';\n",
              "          element.innerHTML = '';\n",
              "          dataTable['output_type'] = 'display_data';\n",
              "          await google.colab.output.renderOutput(dataTable, element);\n",
              "          const docLink = document.createElement('div');\n",
              "          docLink.innerHTML = docLinkHtml;\n",
              "          element.appendChild(docLink);\n",
              "        }\n",
              "      </script>\n",
              "    </div>\n",
              "  </div>\n",
              "  "
            ]
          },
          "metadata": {},
          "execution_count": 227
        }
      ]
    },
    {
      "cell_type": "markdown",
      "source": [
        "Se cambia el nombre de la flor por números para poder generar una matriz de correlación y ver que columnas están más relacionadas con el tipo de flor"
      ],
      "metadata": {
        "id": "qSAEC9yknvb9"
      }
    },
    {
      "cell_type": "code",
      "source": [
        "data['Flower'] = data['Flower'].replace('Iris-setosa',0)\n",
        "data['Flower'] = data['Flower'].replace('Iris-versicolor',1)\n",
        "data['Flower'] = data['Flower'].replace('Iris-virginica',2)\n",
        "data"
      ],
      "metadata": {
        "colab": {
          "base_uri": "https://localhost:8080/",
          "height": 424
        },
        "id": "aG4-95s2Z6-_",
        "outputId": "330c27e8-5f99-4ff6-bc28-bc3d553bfe68"
      },
      "execution_count": 228,
      "outputs": [
        {
          "output_type": "execute_result",
          "data": {
            "text/plain": [
              "     Sepal length  Sepal width  Petal length  Petal widht  Flower\n",
              "0             4.9          3.0           1.4          0.2       0\n",
              "1             4.7          3.2           1.3          0.2       0\n",
              "2             4.6          3.1           1.5          0.2       0\n",
              "3             5.0          3.6           1.4          0.2       0\n",
              "4             5.4          3.9           1.7          0.4       0\n",
              "..            ...          ...           ...          ...     ...\n",
              "144           6.7          3.0           5.2          2.3       2\n",
              "145           6.3          2.5           5.0          1.9       2\n",
              "146           6.5          3.0           5.2          2.0       2\n",
              "147           6.2          3.4           5.4          2.3       2\n",
              "148           5.9          3.0           5.1          1.8       2\n",
              "\n",
              "[149 rows x 5 columns]"
            ],
            "text/html": [
              "\n",
              "  <div id=\"df-b2d5e45b-dc58-4c9d-b088-bea8e4b230d8\">\n",
              "    <div class=\"colab-df-container\">\n",
              "      <div>\n",
              "<style scoped>\n",
              "    .dataframe tbody tr th:only-of-type {\n",
              "        vertical-align: middle;\n",
              "    }\n",
              "\n",
              "    .dataframe tbody tr th {\n",
              "        vertical-align: top;\n",
              "    }\n",
              "\n",
              "    .dataframe thead th {\n",
              "        text-align: right;\n",
              "    }\n",
              "</style>\n",
              "<table border=\"1\" class=\"dataframe\">\n",
              "  <thead>\n",
              "    <tr style=\"text-align: right;\">\n",
              "      <th></th>\n",
              "      <th>Sepal length</th>\n",
              "      <th>Sepal width</th>\n",
              "      <th>Petal length</th>\n",
              "      <th>Petal widht</th>\n",
              "      <th>Flower</th>\n",
              "    </tr>\n",
              "  </thead>\n",
              "  <tbody>\n",
              "    <tr>\n",
              "      <th>0</th>\n",
              "      <td>4.9</td>\n",
              "      <td>3.0</td>\n",
              "      <td>1.4</td>\n",
              "      <td>0.2</td>\n",
              "      <td>0</td>\n",
              "    </tr>\n",
              "    <tr>\n",
              "      <th>1</th>\n",
              "      <td>4.7</td>\n",
              "      <td>3.2</td>\n",
              "      <td>1.3</td>\n",
              "      <td>0.2</td>\n",
              "      <td>0</td>\n",
              "    </tr>\n",
              "    <tr>\n",
              "      <th>2</th>\n",
              "      <td>4.6</td>\n",
              "      <td>3.1</td>\n",
              "      <td>1.5</td>\n",
              "      <td>0.2</td>\n",
              "      <td>0</td>\n",
              "    </tr>\n",
              "    <tr>\n",
              "      <th>3</th>\n",
              "      <td>5.0</td>\n",
              "      <td>3.6</td>\n",
              "      <td>1.4</td>\n",
              "      <td>0.2</td>\n",
              "      <td>0</td>\n",
              "    </tr>\n",
              "    <tr>\n",
              "      <th>4</th>\n",
              "      <td>5.4</td>\n",
              "      <td>3.9</td>\n",
              "      <td>1.7</td>\n",
              "      <td>0.4</td>\n",
              "      <td>0</td>\n",
              "    </tr>\n",
              "    <tr>\n",
              "      <th>...</th>\n",
              "      <td>...</td>\n",
              "      <td>...</td>\n",
              "      <td>...</td>\n",
              "      <td>...</td>\n",
              "      <td>...</td>\n",
              "    </tr>\n",
              "    <tr>\n",
              "      <th>144</th>\n",
              "      <td>6.7</td>\n",
              "      <td>3.0</td>\n",
              "      <td>5.2</td>\n",
              "      <td>2.3</td>\n",
              "      <td>2</td>\n",
              "    </tr>\n",
              "    <tr>\n",
              "      <th>145</th>\n",
              "      <td>6.3</td>\n",
              "      <td>2.5</td>\n",
              "      <td>5.0</td>\n",
              "      <td>1.9</td>\n",
              "      <td>2</td>\n",
              "    </tr>\n",
              "    <tr>\n",
              "      <th>146</th>\n",
              "      <td>6.5</td>\n",
              "      <td>3.0</td>\n",
              "      <td>5.2</td>\n",
              "      <td>2.0</td>\n",
              "      <td>2</td>\n",
              "    </tr>\n",
              "    <tr>\n",
              "      <th>147</th>\n",
              "      <td>6.2</td>\n",
              "      <td>3.4</td>\n",
              "      <td>5.4</td>\n",
              "      <td>2.3</td>\n",
              "      <td>2</td>\n",
              "    </tr>\n",
              "    <tr>\n",
              "      <th>148</th>\n",
              "      <td>5.9</td>\n",
              "      <td>3.0</td>\n",
              "      <td>5.1</td>\n",
              "      <td>1.8</td>\n",
              "      <td>2</td>\n",
              "    </tr>\n",
              "  </tbody>\n",
              "</table>\n",
              "<p>149 rows × 5 columns</p>\n",
              "</div>\n",
              "      <button class=\"colab-df-convert\" onclick=\"convertToInteractive('df-b2d5e45b-dc58-4c9d-b088-bea8e4b230d8')\"\n",
              "              title=\"Convert this dataframe to an interactive table.\"\n",
              "              style=\"display:none;\">\n",
              "        \n",
              "  <svg xmlns=\"http://www.w3.org/2000/svg\" height=\"24px\"viewBox=\"0 0 24 24\"\n",
              "       width=\"24px\">\n",
              "    <path d=\"M0 0h24v24H0V0z\" fill=\"none\"/>\n",
              "    <path d=\"M18.56 5.44l.94 2.06.94-2.06 2.06-.94-2.06-.94-.94-2.06-.94 2.06-2.06.94zm-11 1L8.5 8.5l.94-2.06 2.06-.94-2.06-.94L8.5 2.5l-.94 2.06-2.06.94zm10 10l.94 2.06.94-2.06 2.06-.94-2.06-.94-.94-2.06-.94 2.06-2.06.94z\"/><path d=\"M17.41 7.96l-1.37-1.37c-.4-.4-.92-.59-1.43-.59-.52 0-1.04.2-1.43.59L10.3 9.45l-7.72 7.72c-.78.78-.78 2.05 0 2.83L4 21.41c.39.39.9.59 1.41.59.51 0 1.02-.2 1.41-.59l7.78-7.78 2.81-2.81c.8-.78.8-2.07 0-2.86zM5.41 20L4 18.59l7.72-7.72 1.47 1.35L5.41 20z\"/>\n",
              "  </svg>\n",
              "      </button>\n",
              "      \n",
              "  <style>\n",
              "    .colab-df-container {\n",
              "      display:flex;\n",
              "      flex-wrap:wrap;\n",
              "      gap: 12px;\n",
              "    }\n",
              "\n",
              "    .colab-df-convert {\n",
              "      background-color: #E8F0FE;\n",
              "      border: none;\n",
              "      border-radius: 50%;\n",
              "      cursor: pointer;\n",
              "      display: none;\n",
              "      fill: #1967D2;\n",
              "      height: 32px;\n",
              "      padding: 0 0 0 0;\n",
              "      width: 32px;\n",
              "    }\n",
              "\n",
              "    .colab-df-convert:hover {\n",
              "      background-color: #E2EBFA;\n",
              "      box-shadow: 0px 1px 2px rgba(60, 64, 67, 0.3), 0px 1px 3px 1px rgba(60, 64, 67, 0.15);\n",
              "      fill: #174EA6;\n",
              "    }\n",
              "\n",
              "    [theme=dark] .colab-df-convert {\n",
              "      background-color: #3B4455;\n",
              "      fill: #D2E3FC;\n",
              "    }\n",
              "\n",
              "    [theme=dark] .colab-df-convert:hover {\n",
              "      background-color: #434B5C;\n",
              "      box-shadow: 0px 1px 3px 1px rgba(0, 0, 0, 0.15);\n",
              "      filter: drop-shadow(0px 1px 2px rgba(0, 0, 0, 0.3));\n",
              "      fill: #FFFFFF;\n",
              "    }\n",
              "  </style>\n",
              "\n",
              "      <script>\n",
              "        const buttonEl =\n",
              "          document.querySelector('#df-b2d5e45b-dc58-4c9d-b088-bea8e4b230d8 button.colab-df-convert');\n",
              "        buttonEl.style.display =\n",
              "          google.colab.kernel.accessAllowed ? 'block' : 'none';\n",
              "\n",
              "        async function convertToInteractive(key) {\n",
              "          const element = document.querySelector('#df-b2d5e45b-dc58-4c9d-b088-bea8e4b230d8');\n",
              "          const dataTable =\n",
              "            await google.colab.kernel.invokeFunction('convertToInteractive',\n",
              "                                                     [key], {});\n",
              "          if (!dataTable) return;\n",
              "\n",
              "          const docLinkHtml = 'Like what you see? Visit the ' +\n",
              "            '<a target=\"_blank\" href=https://colab.research.google.com/notebooks/data_table.ipynb>data table notebook</a>'\n",
              "            + ' to learn more about interactive tables.';\n",
              "          element.innerHTML = '';\n",
              "          dataTable['output_type'] = 'display_data';\n",
              "          await google.colab.output.renderOutput(dataTable, element);\n",
              "          const docLink = document.createElement('div');\n",
              "          docLink.innerHTML = docLinkHtml;\n",
              "          element.appendChild(docLink);\n",
              "        }\n",
              "      </script>\n",
              "    </div>\n",
              "  </div>\n",
              "  "
            ]
          },
          "metadata": {},
          "execution_count": 228
        }
      ]
    },
    {
      "cell_type": "code",
      "source": [
        "corr = data.corr()\n",
        "\n",
        "fig = plt.figure(figsize=(8,8))\n",
        "plt.matshow(corr,cmap = 'RdBu' ,fignum=fig.number)\n",
        "plt.xticks(range(len(corr.columns)),corr.columns,rotation='vertical');\n",
        "plt.yticks(range(len(corr.columns)),corr.columns);"
      ],
      "metadata": {
        "colab": {
          "base_uri": "https://localhost:8080/",
          "height": 551
        },
        "id": "QtTQdVgAgsbF",
        "outputId": "8c9b1026-c889-4d41-d2dc-c7ce44730720"
      },
      "execution_count": 229,
      "outputs": [
        {
          "output_type": "display_data",
          "data": {
            "text/plain": [
              "<Figure size 576x576 with 1 Axes>"
            ],
            "image/png": "[encoded data removed]"
          },
          "metadata": {
            "needs_background": "light"
          }
        }
      ]
    },
    {
      "cell_type": "markdown",
      "source": [
        "## Separación y mezcla de la data según la flor"
      ],
      "metadata": {
        "id": "9fqk3XjnLHbZ"
      }
    },
    {
      "cell_type": "code",
      "source": [
        "data_setosa = data[:49]\n",
        "data_versicolor = data[49:99]\n",
        "data_virginica = data[99:]"
      ],
      "metadata": {
        "id": "Y5rnAuQwLLHQ"
      },
      "execution_count": 230,
      "outputs": []
    },
    {
      "cell_type": "code",
      "source": [
        "data_setosa = data_setosa.to_numpy()\n",
        "np.random.shuffle(data_setosa)\n",
        "data_setosa = pd.DataFrame(data_setosa)\n",
        "data_setosa.columns=columnas"
      ],
      "metadata": {
        "id": "YHchMpEOhCvV"
      },
      "execution_count": 231,
      "outputs": []
    },
    {
      "cell_type": "code",
      "source": [
        "data_versicolor = data_versicolor.to_numpy()\n",
        "np.random.shuffle(data_versicolor)\n",
        "data_versicolor = pd.DataFrame(data_versicolor)\n",
        "data_versicolor.columns=columnas"
      ],
      "metadata": {
        "id": "VdKVB4nGs3SG"
      },
      "execution_count": 232,
      "outputs": []
    },
    {
      "cell_type": "code",
      "source": [
        "data_virginica = data_virginica.to_numpy()\n",
        "np.random.shuffle(data_virginica)\n",
        "data_virginica = pd.DataFrame(data_virginica)\n",
        "data_virginica.columns=columnas"
      ],
      "metadata": {
        "id": "liDN85Mvs7Bd"
      },
      "execution_count": 233,
      "outputs": []
    },
    {
      "cell_type": "markdown",
      "source": [
        "## Definición de los datos para evaluar y para estimar"
      ],
      "metadata": {
        "id": "nK1w0v0SuOHT"
      }
    },
    {
      "cell_type": "code",
      "source": [
        "def datasets(porcentaje):\n",
        "  cant = int(50*porcentaje)\n",
        "  # Se sacan los datasets de cada tipo de flor con la cantidad solicitada para test\n",
        "  data_setosa_test = data_setosa[:cant]\n",
        "  data_versicolor_test = data_versicolor[:cant]\n",
        "  data_virginica_test = data_virginica[:cant]\n",
        "  data_test = pd.DataFrame()\n",
        "  data_test = pd.concat([data_setosa_test,data_versicolor_test,data_virginica_test])\n",
        "  # Se sacan los datasets de cada tipo de flor con la cantidad solicitada para train\n",
        "  data_setosa_train = data_setosa[cant:]\n",
        "  data_versicolor_train = data_versicolor[cant:]\n",
        "  data_virginica_train = data_virginica[cant:]\n",
        "  data_train = pd.DataFrame()\n",
        "  data_train = pd.concat([data_setosa_train,data_versicolor_train,data_virginica_train])\n",
        "  # Se mezclan los datasets para no tener los registros ordenados del train\n",
        "  data_train = data_train.to_numpy()\n",
        "  np.random.shuffle(data_train)\n",
        "  data_train = pd.DataFrame(data_train)\n",
        "  data_train.columns=columnas\n",
        "  # Se mezclan los datasets para no tener los registros ordenados del test\n",
        "  data_test = data_test.to_numpy()\n",
        "  np.random.shuffle(data_test)\n",
        "  data_test = pd.DataFrame(data_test)\n",
        "  data_test.columns=columnas\n",
        "  return data_test,data_train"
      ],
      "metadata": {
        "id": "l9AE1xtPkJfc"
      },
      "execution_count": 234,
      "outputs": []
    },
    {
      "cell_type": "markdown",
      "source": [
        "### Se define una función para calcular la distancia euclidiana"
      ],
      "metadata": {
        "id": "HUSUtlVo3o3M"
      }
    },
    {
      "cell_type": "code",
      "source": [
        "def euclidiana(test,train):\n",
        "  distancia = 0\n",
        "  for i in range(len(test)):\n",
        "      distancia += (test[i] - train[i]) ** 2\n",
        "  return math.sqrt(distancia)"
      ],
      "metadata": {
        "id": "h5Avu_ko2g-e"
      },
      "execution_count": 235,
      "outputs": []
    },
    {
      "cell_type": "markdown",
      "source": [
        "### Se define una función para obtener los k vecinos más cercanos"
      ],
      "metadata": {
        "id": "-8kn-qC7DxtW"
      }
    },
    {
      "cell_type": "code",
      "source": [
        "def prediccion(X_train, y_train, X_test, k):\n",
        "    # Lista para guardar las predicciones\n",
        "    y_pred = []\n",
        "    for i in range(len(X_test)):\n",
        "      # Lista para guardar todas las distancias calculadas\n",
        "        distancias = []\n",
        "        for j in range(len(X_train)):\n",
        "            distancia = euclidiana(X_test[i], X_train[j]) # Se calcula la distancia euclidiana\n",
        "            distancias.append((distancia, y_train[j])) # Se agrega la distancia calculada\n",
        "        distancias.sort() # Se ordena la lista de las distancias\n",
        "        vecinos = distancias[:k] # Se sacan las k distancias más cortas\n",
        "        # print(vecinos) # Si se quiere ver las distancias de los vecinos más cercanos\n",
        "        cont = {}\n",
        "        for vecino in vecinos: # Se realiza la votación para hacer la predicción\n",
        "            if vecino[1] in cont:\n",
        "                cont[vecino[1]] += 1\n",
        "            else:\n",
        "                cont[vecino[1]] = 1\n",
        "        y_pred.append(max(cont, key=cont.get)) # Se agrega la predicción a la lista de predicciones\n",
        "    return y_pred"
      ],
      "metadata": {
        "id": "deCSXYMWD2UV"
      },
      "execution_count": 236,
      "outputs": []
    },
    {
      "cell_type": "markdown",
      "source": [
        "# Modelo 80-20"
      ],
      "metadata": {
        "id": "VTS1ePKax2K6"
      }
    },
    {
      "cell_type": "markdown",
      "source": [
        "## Se generan los datasets de prueba y entrenamiento"
      ],
      "metadata": {
        "id": "HVcKeWdtl_Wp"
      }
    },
    {
      "cell_type": "code",
      "source": [
        "data_test,data_train = datasets(0.2) # datasets(train_size)"
      ],
      "metadata": {
        "id": "aA3rze6jfyUp"
      },
      "execution_count": 237,
      "outputs": []
    },
    {
      "cell_type": "markdown",
      "source": [
        "### Se definen los valores de prueba y entrenamiento"
      ],
      "metadata": {
        "id": "IvPyBSk_3r6N"
      }
    },
    {
      "cell_type": "code",
      "source": [
        "x_train = data_train.iloc[:,[2,3]].values\n",
        "y_train = data_train.iloc[:,4].values\n",
        "\n",
        "x_test = data_test.iloc[:,[2,3]].values\n",
        "y_test = data_test.iloc[:,4].values"
      ],
      "metadata": {
        "id": "WnOrnspQ0xar"
      },
      "execution_count": 238,
      "outputs": []
    },
    {
      "cell_type": "markdown",
      "source": [
        "### Se ejecuta el KNN y se reportan la cantidad de aciertos y fallos"
      ],
      "metadata": {
        "id": "9KmnMlnndziO"
      }
    },
    {
      "cell_type": "code",
      "source": [
        "k=3\n",
        "y_pred=prediccion(x_train,y_train,x_test,k)\n",
        "cont = 0\n",
        "for i in range(len(y_test)):\n",
        "  if(y_test[i]!=y_pred[i]):\n",
        "    cont += 1\n",
        "\n",
        "print('Fallos: ',cont)\n",
        "print('Aciertos: ',(len(y_test)-cont))"
      ],
      "metadata": {
        "colab": {
          "base_uri": "https://localhost:8080/"
        },
        "id": "OXA4AFCsc2FH",
        "outputId": "330ba99d-95b6-41ad-8e67-71f5b4f835a8"
      },
      "execution_count": 239,
      "outputs": [
        {
          "output_type": "stream",
          "name": "stdout",
          "text": [
            "Fallos:  1\n",
            "Aciertos:  29\n"
          ]
        }
      ]
    },
    {
      "cell_type": "code",
      "source": [
        "k=5\n",
        "y_pred=prediccion(x_train,y_train,x_test,k)\n",
        "cont = 0\n",
        "for i in range(len(y_test)):\n",
        "  if(y_test[i]!=y_pred[i]):\n",
        "    cont += 1\n",
        "\n",
        "print('Fallos: ',cont)\n",
        "print('Aciertos: ',(len(y_test)-cont))"
      ],
      "metadata": {
        "colab": {
          "base_uri": "https://localhost:8080/"
        },
        "id": "MvIjqrn_eTE0",
        "outputId": "142f1924-add9-4d5f-f9a6-ccd50a13562e"
      },
      "execution_count": 240,
      "outputs": [
        {
          "output_type": "stream",
          "name": "stdout",
          "text": [
            "Fallos:  1\n",
            "Aciertos:  29\n"
          ]
        }
      ]
    },
    {
      "cell_type": "code",
      "source": [
        "k=7\n",
        "y_pred=prediccion(x_train,y_train,x_test,k)\n",
        "cont = 0\n",
        "for i in range(len(y_test)):\n",
        "  if(y_test[i]!=y_pred[i]):\n",
        "    cont += 1\n",
        "\n",
        "print('Fallos: ',cont)\n",
        "print('Aciertos: ',(len(y_test)-cont))"
      ],
      "metadata": {
        "colab": {
          "base_uri": "https://localhost:8080/"
        },
        "id": "VlVan4-Xfhhw",
        "outputId": "f90ba9e7-0e5e-4702-e364-e19cdcc102cb"
      },
      "execution_count": 241,
      "outputs": [
        {
          "output_type": "stream",
          "name": "stdout",
          "text": [
            "Fallos:  1\n",
            "Aciertos:  29\n"
          ]
        }
      ]
    },
    {
      "cell_type": "code",
      "source": [
        "k=11\n",
        "y_pred=prediccion(x_train,y_train,x_test,k)\n",
        "cont = 0\n",
        "for i in range(len(y_test)):\n",
        "  if(y_test[i]!=y_pred[i]):\n",
        "    cont += 1\n",
        "\n",
        "print('Fallos: ',cont)\n",
        "print('Aciertos: ',(len(y_test)-cont))"
      ],
      "metadata": {
        "colab": {
          "base_uri": "https://localhost:8080/"
        },
        "id": "zPBtf-FTfjPo",
        "outputId": "6a6de716-7521-448a-b0cd-7d60da0b12e9"
      },
      "execution_count": 242,
      "outputs": [
        {
          "output_type": "stream",
          "name": "stdout",
          "text": [
            "Fallos:  1\n",
            "Aciertos:  29\n"
          ]
        }
      ]
    },
    {
      "cell_type": "code",
      "source": [
        "k=13\n",
        "y_pred=prediccion(x_train,y_train,x_test,k)\n",
        "cont = 0\n",
        "for i in range(len(y_test)):\n",
        "  if(y_test[i]!=y_pred[i]):\n",
        "    cont += 1\n",
        "\n",
        "print('Fallos: ',cont)\n",
        "print('Aciertos: ',(len(y_test)-cont))"
      ],
      "metadata": {
        "colab": {
          "base_uri": "https://localhost:8080/"
        },
        "id": "B2abFGHFfkYg",
        "outputId": "d3ebae48-c91b-4b0a-f1fb-b5acbd949448"
      },
      "execution_count": 243,
      "outputs": [
        {
          "output_type": "stream",
          "name": "stdout",
          "text": [
            "Fallos:  1\n",
            "Aciertos:  29\n"
          ]
        }
      ]
    },
    {
      "cell_type": "markdown",
      "source": [
        "# Modelo 50-50"
      ],
      "metadata": {
        "id": "YjKw0sUsiA9L"
      }
    },
    {
      "cell_type": "code",
      "source": [
        "data_test_50,data_train_50 = datasets(0.5)"
      ],
      "metadata": {
        "id": "De0G6Ucwi22o"
      },
      "execution_count": 244,
      "outputs": []
    },
    {
      "cell_type": "code",
      "source": [
        "x_train_50 = data_train_50.iloc[:,[2,3]].values\n",
        "y_train_50 = data_train_50.iloc[:,4].values\n",
        "\n",
        "x_test_50 = data_test_50.iloc[:,[2,3]].values\n",
        "y_test_50 = data_test_50.iloc[:,4].values"
      ],
      "metadata": {
        "id": "06b_9cUfmUjH"
      },
      "execution_count": 245,
      "outputs": []
    },
    {
      "cell_type": "code",
      "source": [
        "k=7\n",
        "y_pred_50=prediccion(x_train_50,y_train_50,x_test_50,k)\n",
        "cont = 0\n",
        "for i in range(len(y_test_50)):\n",
        "  if(y_test_50[i]!=y_pred_50[i]):\n",
        "    cont += 1\n",
        "\n",
        "print('Fallos: ',cont)\n",
        "print('Aciertos: ',(len(y_test_50)-cont))"
      ],
      "metadata": {
        "colab": {
          "base_uri": "https://localhost:8080/"
        },
        "id": "G1-6uZ75mRUA",
        "outputId": "e70ef807-2dfb-481d-a149-da0ec4801d85"
      },
      "execution_count": 246,
      "outputs": [
        {
          "output_type": "stream",
          "name": "stdout",
          "text": [
            "Fallos:  2\n",
            "Aciertos:  73\n"
          ]
        }
      ]
    },
    {
      "cell_type": "markdown",
      "source": [
        "# Modelo 75-25"
      ],
      "metadata": {
        "id": "pzGqySj9nPqO"
      }
    },
    {
      "cell_type": "code",
      "source": [
        "data_test_75,data_train_75 = datasets(0.75)"
      ],
      "metadata": {
        "id": "u5BeBPnwnSnl"
      },
      "execution_count": 247,
      "outputs": []
    },
    {
      "cell_type": "code",
      "source": [
        "x_train_75 = data_train_75.iloc[:,[2,3]].values\n",
        "y_train_75 = data_train_75.iloc[:,4].values\n",
        "\n",
        "x_test_75 = data_test_75.iloc[:,[2,3]].values\n",
        "y_test_75 = data_test_75.iloc[:,4].values"
      ],
      "metadata": {
        "id": "ELNbftAknVMN"
      },
      "execution_count": 248,
      "outputs": []
    },
    {
      "cell_type": "code",
      "source": [
        "k=7\n",
        "y_pred_75=prediccion(x_train_75,y_train_75,x_test_75,k)\n",
        "cont = 0\n",
        "for i in range(len(y_test_75)):\n",
        "  if(y_test_75[i]!=y_pred_75[i]):\n",
        "    cont += 1\n",
        "\n",
        "print('Fallos: ',cont)\n",
        "print('Aciertos: ',(len(y_test_75)-cont))"
      ],
      "metadata": {
        "colab": {
          "base_uri": "https://localhost:8080/"
        },
        "id": "xwCctwl4naL1",
        "outputId": "6baa53df-acc6-439c-84a2-2edbba17e258"
      },
      "execution_count": 249,
      "outputs": [
        {
          "output_type": "stream",
          "name": "stdout",
          "text": [
            "Fallos:  6\n",
            "Aciertos:  105\n"
          ]
        }
      ]
    }
  ]
}