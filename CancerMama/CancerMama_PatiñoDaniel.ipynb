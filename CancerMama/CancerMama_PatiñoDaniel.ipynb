{
  "cells": [
    {
      "cell_type": "markdown",
      "metadata": {
        "id": "D93YzrbJDPjH"
      },
      "source": [
        "# ***Daniel Enrique Patiño Jaimes***"
      ]
    },
    {
      "cell_type": "markdown",
      "metadata": {
        "id": "Oym1r6NeP_IW"
      },
      "source": [
        "# Usando la base de datos de cancer de mama disponible en: https://archive.ics.uci.edu/ml/datasets/breast+cancer+wisconsin+(diagnostic) realizar un modelo de regresión logística que permita categorizar correctamente los registros entre pacientes sanos y no sanos."
      ]
    },
    {
      "cell_type": "markdown",
      "metadata": {
        "id": "_uk0l7uLBCoE"
      },
      "source": [
        "## Librerías necesarias"
      ]
    },
    {
      "cell_type": "code",
      "execution_count": null,
      "metadata": {
        "id": "tvGr6R-lM7LO"
      },
      "outputs": [],
      "source": [
        "import numpy as np\n",
        "import pandas as pd\n",
        "import matplotlib.pyplot as plt\n",
        "import math\n",
        "from sklearn.linear_model import LogisticRegression\n",
        "from sklearn.neighbors import KNeighborsClassifier\n",
        "from sklearn.model_selection import train_test_split"
      ]
    },
    {
      "cell_type": "markdown",
      "metadata": {
        "id": "TAQ1Uu37BFbz"
      },
      "source": [
        "## Lectura del csv y asignación de nombres a columnas"
      ]
    },
    {
      "cell_type": "code",
      "execution_count": null,
      "metadata": {
        "colab": {
          "base_uri": "https://localhost:8080/",
          "height": 424
        },
        "id": "8LEKadt-Axoj",
        "outputId": "10dfa5d2-b9a9-4ef5-d8db-ea75ccf70e28"
      },
      "outputs": [
        {
          "data": {
            "text/html": [
              "\n",
              "  <div id=\"df-8cf13a2b-4acf-44ee-b954-70737954a936\">\n",
              "    <div class=\"colab-df-container\">\n",
              "      <div>\n",
              "<style scoped>\n",
              "    .dataframe tbody tr th:only-of-type {\n",
              "        vertical-align: middle;\n",
              "    }\n",
              "\n",
              "    .dataframe tbody tr th {\n",
              "        vertical-align: top;\n",
              "    }\n",
              "\n",
              "    .dataframe thead th {\n",
              "        text-align: right;\n",
              "    }\n",
              "</style>\n",
              "<table border=\"1\" class=\"dataframe\">\n",
              "  <thead>\n",
              "    <tr style=\"text-align: right;\">\n",
              "      <th></th>\n",
              "      <th>id</th>\n",
              "      <th>resultado</th>\n",
              "      <th>c1</th>\n",
              "      <th>c2</th>\n",
              "      <th>c3</th>\n",
              "      <th>c4</th>\n",
              "      <th>c5</th>\n",
              "      <th>c6</th>\n",
              "      <th>c7</th>\n",
              "      <th>c8</th>\n",
              "      <th>...</th>\n",
              "      <th>c21</th>\n",
              "      <th>c22</th>\n",
              "      <th>c23</th>\n",
              "      <th>c24</th>\n",
              "      <th>c25</th>\n",
              "      <th>c26</th>\n",
              "      <th>c27</th>\n",
              "      <th>c28</th>\n",
              "      <th>c29</th>\n",
              "      <th>c30</th>\n",
              "    </tr>\n",
              "  </thead>\n",
              "  <tbody>\n",
              "    <tr>\n",
              "      <th>0</th>\n",
              "      <td>842517</td>\n",
              "      <td>M</td>\n",
              "      <td>20.57</td>\n",
              "      <td>17.77</td>\n",
              "      <td>132.90</td>\n",
              "      <td>1326.0</td>\n",
              "      <td>0.08474</td>\n",
              "      <td>0.07864</td>\n",
              "      <td>0.08690</td>\n",
              "      <td>0.07017</td>\n",
              "      <td>...</td>\n",
              "      <td>24.990</td>\n",
              "      <td>23.41</td>\n",
              "      <td>158.80</td>\n",
              "      <td>1956.0</td>\n",
              "      <td>0.12380</td>\n",
              "      <td>0.18660</td>\n",
              "      <td>0.2416</td>\n",
              "      <td>0.1860</td>\n",
              "      <td>0.2750</td>\n",
              "      <td>0.08902</td>\n",
              "    </tr>\n",
              "    <tr>\n",
              "      <th>1</th>\n",
              "      <td>84300903</td>\n",
              "      <td>M</td>\n",
              "      <td>19.69</td>\n",
              "      <td>21.25</td>\n",
              "      <td>130.00</td>\n",
              "      <td>1203.0</td>\n",
              "      <td>0.10960</td>\n",
              "      <td>0.15990</td>\n",
              "      <td>0.19740</td>\n",
              "      <td>0.12790</td>\n",
              "      <td>...</td>\n",
              "      <td>23.570</td>\n",
              "      <td>25.53</td>\n",
              "      <td>152.50</td>\n",
              "      <td>1709.0</td>\n",
              "      <td>0.14440</td>\n",
              "      <td>0.42450</td>\n",
              "      <td>0.4504</td>\n",
              "      <td>0.2430</td>\n",
              "      <td>0.3613</td>\n",
              "      <td>0.08758</td>\n",
              "    </tr>\n",
              "    <tr>\n",
              "      <th>2</th>\n",
              "      <td>84348301</td>\n",
              "      <td>M</td>\n",
              "      <td>11.42</td>\n",
              "      <td>20.38</td>\n",
              "      <td>77.58</td>\n",
              "      <td>386.1</td>\n",
              "      <td>0.14250</td>\n",
              "      <td>0.28390</td>\n",
              "      <td>0.24140</td>\n",
              "      <td>0.10520</td>\n",
              "      <td>...</td>\n",
              "      <td>14.910</td>\n",
              "      <td>26.50</td>\n",
              "      <td>98.87</td>\n",
              "      <td>567.7</td>\n",
              "      <td>0.20980</td>\n",
              "      <td>0.86630</td>\n",
              "      <td>0.6869</td>\n",
              "      <td>0.2575</td>\n",
              "      <td>0.6638</td>\n",
              "      <td>0.17300</td>\n",
              "    </tr>\n",
              "    <tr>\n",
              "      <th>3</th>\n",
              "      <td>84358402</td>\n",
              "      <td>M</td>\n",
              "      <td>20.29</td>\n",
              "      <td>14.34</td>\n",
              "      <td>135.10</td>\n",
              "      <td>1297.0</td>\n",
              "      <td>0.10030</td>\n",
              "      <td>0.13280</td>\n",
              "      <td>0.19800</td>\n",
              "      <td>0.10430</td>\n",
              "      <td>...</td>\n",
              "      <td>22.540</td>\n",
              "      <td>16.67</td>\n",
              "      <td>152.20</td>\n",
              "      <td>1575.0</td>\n",
              "      <td>0.13740</td>\n",
              "      <td>0.20500</td>\n",
              "      <td>0.4000</td>\n",
              "      <td>0.1625</td>\n",
              "      <td>0.2364</td>\n",
              "      <td>0.07678</td>\n",
              "    </tr>\n",
              "    <tr>\n",
              "      <th>4</th>\n",
              "      <td>843786</td>\n",
              "      <td>M</td>\n",
              "      <td>12.45</td>\n",
              "      <td>15.70</td>\n",
              "      <td>82.57</td>\n",
              "      <td>477.1</td>\n",
              "      <td>0.12780</td>\n",
              "      <td>0.17000</td>\n",
              "      <td>0.15780</td>\n",
              "      <td>0.08089</td>\n",
              "      <td>...</td>\n",
              "      <td>15.470</td>\n",
              "      <td>23.75</td>\n",
              "      <td>103.40</td>\n",
              "      <td>741.6</td>\n",
              "      <td>0.17910</td>\n",
              "      <td>0.52490</td>\n",
              "      <td>0.5355</td>\n",
              "      <td>0.1741</td>\n",
              "      <td>0.3985</td>\n",
              "      <td>0.12440</td>\n",
              "    </tr>\n",
              "    <tr>\n",
              "      <th>...</th>\n",
              "      <td>...</td>\n",
              "      <td>...</td>\n",
              "      <td>...</td>\n",
              "      <td>...</td>\n",
              "      <td>...</td>\n",
              "      <td>...</td>\n",
              "      <td>...</td>\n",
              "      <td>...</td>\n",
              "      <td>...</td>\n",
              "      <td>...</td>\n",
              "      <td>...</td>\n",
              "      <td>...</td>\n",
              "      <td>...</td>\n",
              "      <td>...</td>\n",
              "      <td>...</td>\n",
              "      <td>...</td>\n",
              "      <td>...</td>\n",
              "      <td>...</td>\n",
              "      <td>...</td>\n",
              "      <td>...</td>\n",
              "      <td>...</td>\n",
              "    </tr>\n",
              "    <tr>\n",
              "      <th>563</th>\n",
              "      <td>926424</td>\n",
              "      <td>M</td>\n",
              "      <td>21.56</td>\n",
              "      <td>22.39</td>\n",
              "      <td>142.00</td>\n",
              "      <td>1479.0</td>\n",
              "      <td>0.11100</td>\n",
              "      <td>0.11590</td>\n",
              "      <td>0.24390</td>\n",
              "      <td>0.13890</td>\n",
              "      <td>...</td>\n",
              "      <td>25.450</td>\n",
              "      <td>26.40</td>\n",
              "      <td>166.10</td>\n",
              "      <td>2027.0</td>\n",
              "      <td>0.14100</td>\n",
              "      <td>0.21130</td>\n",
              "      <td>0.4107</td>\n",
              "      <td>0.2216</td>\n",
              "      <td>0.2060</td>\n",
              "      <td>0.07115</td>\n",
              "    </tr>\n",
              "    <tr>\n",
              "      <th>564</th>\n",
              "      <td>926682</td>\n",
              "      <td>M</td>\n",
              "      <td>20.13</td>\n",
              "      <td>28.25</td>\n",
              "      <td>131.20</td>\n",
              "      <td>1261.0</td>\n",
              "      <td>0.09780</td>\n",
              "      <td>0.10340</td>\n",
              "      <td>0.14400</td>\n",
              "      <td>0.09791</td>\n",
              "      <td>...</td>\n",
              "      <td>23.690</td>\n",
              "      <td>38.25</td>\n",
              "      <td>155.00</td>\n",
              "      <td>1731.0</td>\n",
              "      <td>0.11660</td>\n",
              "      <td>0.19220</td>\n",
              "      <td>0.3215</td>\n",
              "      <td>0.1628</td>\n",
              "      <td>0.2572</td>\n",
              "      <td>0.06637</td>\n",
              "    </tr>\n",
              "    <tr>\n",
              "      <th>565</th>\n",
              "      <td>926954</td>\n",
              "      <td>M</td>\n",
              "      <td>16.60</td>\n",
              "      <td>28.08</td>\n",
              "      <td>108.30</td>\n",
              "      <td>858.1</td>\n",
              "      <td>0.08455</td>\n",
              "      <td>0.10230</td>\n",
              "      <td>0.09251</td>\n",
              "      <td>0.05302</td>\n",
              "      <td>...</td>\n",
              "      <td>18.980</td>\n",
              "      <td>34.12</td>\n",
              "      <td>126.70</td>\n",
              "      <td>1124.0</td>\n",
              "      <td>0.11390</td>\n",
              "      <td>0.30940</td>\n",
              "      <td>0.3403</td>\n",
              "      <td>0.1418</td>\n",
              "      <td>0.2218</td>\n",
              "      <td>0.07820</td>\n",
              "    </tr>\n",
              "    <tr>\n",
              "      <th>566</th>\n",
              "      <td>927241</td>\n",
              "      <td>M</td>\n",
              "      <td>20.60</td>\n",
              "      <td>29.33</td>\n",
              "      <td>140.10</td>\n",
              "      <td>1265.0</td>\n",
              "      <td>0.11780</td>\n",
              "      <td>0.27700</td>\n",
              "      <td>0.35140</td>\n",
              "      <td>0.15200</td>\n",
              "      <td>...</td>\n",
              "      <td>25.740</td>\n",
              "      <td>39.42</td>\n",
              "      <td>184.60</td>\n",
              "      <td>1821.0</td>\n",
              "      <td>0.16500</td>\n",
              "      <td>0.86810</td>\n",
              "      <td>0.9387</td>\n",
              "      <td>0.2650</td>\n",
              "      <td>0.4087</td>\n",
              "      <td>0.12400</td>\n",
              "    </tr>\n",
              "    <tr>\n",
              "      <th>567</th>\n",
              "      <td>92751</td>\n",
              "      <td>B</td>\n",
              "      <td>7.76</td>\n",
              "      <td>24.54</td>\n",
              "      <td>47.92</td>\n",
              "      <td>181.0</td>\n",
              "      <td>0.05263</td>\n",
              "      <td>0.04362</td>\n",
              "      <td>0.00000</td>\n",
              "      <td>0.00000</td>\n",
              "      <td>...</td>\n",
              "      <td>9.456</td>\n",
              "      <td>30.37</td>\n",
              "      <td>59.16</td>\n",
              "      <td>268.6</td>\n",
              "      <td>0.08996</td>\n",
              "      <td>0.06444</td>\n",
              "      <td>0.0000</td>\n",
              "      <td>0.0000</td>\n",
              "      <td>0.2871</td>\n",
              "      <td>0.07039</td>\n",
              "    </tr>\n",
              "  </tbody>\n",
              "</table>\n",
              "<p>568 rows × 32 columns</p>\n",
              "</div>\n",
              "      <button class=\"colab-df-convert\" onclick=\"convertToInteractive('df-8cf13a2b-4acf-44ee-b954-70737954a936')\"\n",
              "              title=\"Convert this dataframe to an interactive table.\"\n",
              "              style=\"display:none;\">\n",
              "        \n",
              "  <svg xmlns=\"http://www.w3.org/2000/svg\" height=\"24px\"viewBox=\"0 0 24 24\"\n",
              "       width=\"24px\">\n",
              "    <path d=\"M0 0h24v24H0V0z\" fill=\"none\"/>\n",
              "    <path d=\"M18.56 5.44l.94 2.06.94-2.06 2.06-.94-2.06-.94-.94-2.06-.94 2.06-2.06.94zm-11 1L8.5 8.5l.94-2.06 2.06-.94-2.06-.94L8.5 2.5l-.94 2.06-2.06.94zm10 10l.94 2.06.94-2.06 2.06-.94-2.06-.94-.94-2.06-.94 2.06-2.06.94z\"/><path d=\"M17.41 7.96l-1.37-1.37c-.4-.4-.92-.59-1.43-.59-.52 0-1.04.2-1.43.59L10.3 9.45l-7.72 7.72c-.78.78-.78 2.05 0 2.83L4 21.41c.39.39.9.59 1.41.59.51 0 1.02-.2 1.41-.59l7.78-7.78 2.81-2.81c.8-.78.8-2.07 0-2.86zM5.41 20L4 18.59l7.72-7.72 1.47 1.35L5.41 20z\"/>\n",
              "  </svg>\n",
              "      </button>\n",
              "      \n",
              "  <style>\n",
              "    .colab-df-container {\n",
              "      display:flex;\n",
              "      flex-wrap:wrap;\n",
              "      gap: 12px;\n",
              "    }\n",
              "\n",
              "    .colab-df-convert {\n",
              "      background-color: #E8F0FE;\n",
              "      border: none;\n",
              "      border-radius: 50%;\n",
              "      cursor: pointer;\n",
              "      display: none;\n",
              "      fill: #1967D2;\n",
              "      height: 32px;\n",
              "      padding: 0 0 0 0;\n",
              "      width: 32px;\n",
              "    }\n",
              "\n",
              "    .colab-df-convert:hover {\n",
              "      background-color: #E2EBFA;\n",
              "      box-shadow: 0px 1px 2px rgba(60, 64, 67, 0.3), 0px 1px 3px 1px rgba(60, 64, 67, 0.15);\n",
              "      fill: #174EA6;\n",
              "    }\n",
              "\n",
              "    [theme=dark] .colab-df-convert {\n",
              "      background-color: #3B4455;\n",
              "      fill: #D2E3FC;\n",
              "    }\n",
              "\n",
              "    [theme=dark] .colab-df-convert:hover {\n",
              "      background-color: #434B5C;\n",
              "      box-shadow: 0px 1px 3px 1px rgba(0, 0, 0, 0.15);\n",
              "      filter: drop-shadow(0px 1px 2px rgba(0, 0, 0, 0.3));\n",
              "      fill: #FFFFFF;\n",
              "    }\n",
              "  </style>\n",
              "\n",
              "      <script>\n",
              "        const buttonEl =\n",
              "          document.querySelector('#df-8cf13a2b-4acf-44ee-b954-70737954a936 button.colab-df-convert');\n",
              "        buttonEl.style.display =\n",
              "          google.colab.kernel.accessAllowed ? 'block' : 'none';\n",
              "\n",
              "        async function convertToInteractive(key) {\n",
              "          const element = document.querySelector('#df-8cf13a2b-4acf-44ee-b954-70737954a936');\n",
              "          const dataTable =\n",
              "            await google.colab.kernel.invokeFunction('convertToInteractive',\n",
              "                                                     [key], {});\n",
              "          if (!dataTable) return;\n",
              "\n",
              "          const docLinkHtml = 'Like what you see? Visit the ' +\n",
              "            '<a target=\"_blank\" href=https://colab.research.google.com/notebooks/data_table.ipynb>data table notebook</a>'\n",
              "            + ' to learn more about interactive tables.';\n",
              "          element.innerHTML = '';\n",
              "          dataTable['output_type'] = 'display_data';\n",
              "          await google.colab.output.renderOutput(dataTable, element);\n",
              "          const docLink = document.createElement('div');\n",
              "          docLink.innerHTML = docLinkHtml;\n",
              "          element.appendChild(docLink);\n",
              "        }\n",
              "      </script>\n",
              "    </div>\n",
              "  </div>\n",
              "  "
            ],
            "text/plain": [
              "           id resultado     c1     c2      c3      c4       c5       c6  \\\n",
              "0      842517         M  20.57  17.77  132.90  1326.0  0.08474  0.07864   \n",
              "1    84300903         M  19.69  21.25  130.00  1203.0  0.10960  0.15990   \n",
              "2    84348301         M  11.42  20.38   77.58   386.1  0.14250  0.28390   \n",
              "3    84358402         M  20.29  14.34  135.10  1297.0  0.10030  0.13280   \n",
              "4      843786         M  12.45  15.70   82.57   477.1  0.12780  0.17000   \n",
              "..        ...       ...    ...    ...     ...     ...      ...      ...   \n",
              "563    926424         M  21.56  22.39  142.00  1479.0  0.11100  0.11590   \n",
              "564    926682         M  20.13  28.25  131.20  1261.0  0.09780  0.10340   \n",
              "565    926954         M  16.60  28.08  108.30   858.1  0.08455  0.10230   \n",
              "566    927241         M  20.60  29.33  140.10  1265.0  0.11780  0.27700   \n",
              "567     92751         B   7.76  24.54   47.92   181.0  0.05263  0.04362   \n",
              "\n",
              "          c7       c8  ...     c21    c22     c23     c24      c25      c26  \\\n",
              "0    0.08690  0.07017  ...  24.990  23.41  158.80  1956.0  0.12380  0.18660   \n",
              "1    0.19740  0.12790  ...  23.570  25.53  152.50  1709.0  0.14440  0.42450   \n",
              "2    0.24140  0.10520  ...  14.910  26.50   98.87   567.7  0.20980  0.86630   \n",
              "3    0.19800  0.10430  ...  22.540  16.67  152.20  1575.0  0.13740  0.20500   \n",
              "4    0.15780  0.08089  ...  15.470  23.75  103.40   741.6  0.17910  0.52490   \n",
              "..       ...      ...  ...     ...    ...     ...     ...      ...      ...   \n",
              "563  0.24390  0.13890  ...  25.450  26.40  166.10  2027.0  0.14100  0.21130   \n",
              "564  0.14400  0.09791  ...  23.690  38.25  155.00  1731.0  0.11660  0.19220   \n",
              "565  0.09251  0.05302  ...  18.980  34.12  126.70  1124.0  0.11390  0.30940   \n",
              "566  0.35140  0.15200  ...  25.740  39.42  184.60  1821.0  0.16500  0.86810   \n",
              "567  0.00000  0.00000  ...   9.456  30.37   59.16   268.6  0.08996  0.06444   \n",
              "\n",
              "        c27     c28     c29      c30  \n",
              "0    0.2416  0.1860  0.2750  0.08902  \n",
              "1    0.4504  0.2430  0.3613  0.08758  \n",
              "2    0.6869  0.2575  0.6638  0.17300  \n",
              "3    0.4000  0.1625  0.2364  0.07678  \n",
              "4    0.5355  0.1741  0.3985  0.12440  \n",
              "..      ...     ...     ...      ...  \n",
              "563  0.4107  0.2216  0.2060  0.07115  \n",
              "564  0.3215  0.1628  0.2572  0.06637  \n",
              "565  0.3403  0.1418  0.2218  0.07820  \n",
              "566  0.9387  0.2650  0.4087  0.12400  \n",
              "567  0.0000  0.0000  0.2871  0.07039  \n",
              "\n",
              "[568 rows x 32 columns]"
            ]
          },
          "execution_count": 2,
          "metadata": {},
          "output_type": "execute_result"
        }
      ],
      "source": [
        "data = pd.read_csv('cancer_mama.csv')\n",
        "columnas = ['id','resultado']\n",
        "for i in range(1,31,1):\n",
        "  columnas.append(\"c\"+str(i))\n",
        "data.columns=columnas\n",
        "data"
      ]
    },
    {
      "cell_type": "markdown",
      "metadata": {
        "id": "CmhSCijDBMRr"
      },
      "source": [
        "## Eliminar columna 'c1' debido a que no representa información necesaria y modificación de los datos en la columna 'resultado' \n",
        "\n",
        "*   M = Maligno (M -> 1)\n",
        "*   B = Benigno (B -> 0)"
      ]
    },
    {
      "cell_type": "code",
      "execution_count": null,
      "metadata": {
        "colab": {
          "base_uri": "https://localhost:8080/",
          "height": 424
        },
        "id": "cZiZToZ_BYJ6",
        "outputId": "6359a703-0750-4aa7-fc20-e673ecfa9659"
      },
      "outputs": [
        {
          "data": {
            "text/html": [
              "\n",
              "  <div id=\"df-b6683198-4d52-4444-b5e2-56d59ea922ad\">\n",
              "    <div class=\"colab-df-container\">\n",
              "      <div>\n",
              "<style scoped>\n",
              "    .dataframe tbody tr th:only-of-type {\n",
              "        vertical-align: middle;\n",
              "    }\n",
              "\n",
              "    .dataframe tbody tr th {\n",
              "        vertical-align: top;\n",
              "    }\n",
              "\n",
              "    .dataframe thead th {\n",
              "        text-align: right;\n",
              "    }\n",
              "</style>\n",
              "<table border=\"1\" class=\"dataframe\">\n",
              "  <thead>\n",
              "    <tr style=\"text-align: right;\">\n",
              "      <th></th>\n",
              "      <th>resultado</th>\n",
              "      <th>c1</th>\n",
              "      <th>c2</th>\n",
              "      <th>c3</th>\n",
              "      <th>c4</th>\n",
              "      <th>c5</th>\n",
              "      <th>c6</th>\n",
              "      <th>c7</th>\n",
              "      <th>c8</th>\n",
              "      <th>c9</th>\n",
              "      <th>...</th>\n",
              "      <th>c21</th>\n",
              "      <th>c22</th>\n",
              "      <th>c23</th>\n",
              "      <th>c24</th>\n",
              "      <th>c25</th>\n",
              "      <th>c26</th>\n",
              "      <th>c27</th>\n",
              "      <th>c28</th>\n",
              "      <th>c29</th>\n",
              "      <th>c30</th>\n",
              "    </tr>\n",
              "  </thead>\n",
              "  <tbody>\n",
              "    <tr>\n",
              "      <th>0</th>\n",
              "      <td>1</td>\n",
              "      <td>20.57</td>\n",
              "      <td>17.77</td>\n",
              "      <td>132.90</td>\n",
              "      <td>1326.0</td>\n",
              "      <td>0.08474</td>\n",
              "      <td>0.07864</td>\n",
              "      <td>0.08690</td>\n",
              "      <td>0.07017</td>\n",
              "      <td>0.1812</td>\n",
              "      <td>...</td>\n",
              "      <td>24.990</td>\n",
              "      <td>23.41</td>\n",
              "      <td>158.80</td>\n",
              "      <td>1956.0</td>\n",
              "      <td>0.12380</td>\n",
              "      <td>0.18660</td>\n",
              "      <td>0.2416</td>\n",
              "      <td>0.1860</td>\n",
              "      <td>0.2750</td>\n",
              "      <td>0.08902</td>\n",
              "    </tr>\n",
              "    <tr>\n",
              "      <th>1</th>\n",
              "      <td>1</td>\n",
              "      <td>19.69</td>\n",
              "      <td>21.25</td>\n",
              "      <td>130.00</td>\n",
              "      <td>1203.0</td>\n",
              "      <td>0.10960</td>\n",
              "      <td>0.15990</td>\n",
              "      <td>0.19740</td>\n",
              "      <td>0.12790</td>\n",
              "      <td>0.2069</td>\n",
              "      <td>...</td>\n",
              "      <td>23.570</td>\n",
              "      <td>25.53</td>\n",
              "      <td>152.50</td>\n",
              "      <td>1709.0</td>\n",
              "      <td>0.14440</td>\n",
              "      <td>0.42450</td>\n",
              "      <td>0.4504</td>\n",
              "      <td>0.2430</td>\n",
              "      <td>0.3613</td>\n",
              "      <td>0.08758</td>\n",
              "    </tr>\n",
              "    <tr>\n",
              "      <th>2</th>\n",
              "      <td>1</td>\n",
              "      <td>11.42</td>\n",
              "      <td>20.38</td>\n",
              "      <td>77.58</td>\n",
              "      <td>386.1</td>\n",
              "      <td>0.14250</td>\n",
              "      <td>0.28390</td>\n",
              "      <td>0.24140</td>\n",
              "      <td>0.10520</td>\n",
              "      <td>0.2597</td>\n",
              "      <td>...</td>\n",
              "      <td>14.910</td>\n",
              "      <td>26.50</td>\n",
              "      <td>98.87</td>\n",
              "      <td>567.7</td>\n",
              "      <td>0.20980</td>\n",
              "      <td>0.86630</td>\n",
              "      <td>0.6869</td>\n",
              "      <td>0.2575</td>\n",
              "      <td>0.6638</td>\n",
              "      <td>0.17300</td>\n",
              "    </tr>\n",
              "    <tr>\n",
              "      <th>3</th>\n",
              "      <td>1</td>\n",
              "      <td>20.29</td>\n",
              "      <td>14.34</td>\n",
              "      <td>135.10</td>\n",
              "      <td>1297.0</td>\n",
              "      <td>0.10030</td>\n",
              "      <td>0.13280</td>\n",
              "      <td>0.19800</td>\n",
              "      <td>0.10430</td>\n",
              "      <td>0.1809</td>\n",
              "      <td>...</td>\n",
              "      <td>22.540</td>\n",
              "      <td>16.67</td>\n",
              "      <td>152.20</td>\n",
              "      <td>1575.0</td>\n",
              "      <td>0.13740</td>\n",
              "      <td>0.20500</td>\n",
              "      <td>0.4000</td>\n",
              "      <td>0.1625</td>\n",
              "      <td>0.2364</td>\n",
              "      <td>0.07678</td>\n",
              "    </tr>\n",
              "    <tr>\n",
              "      <th>4</th>\n",
              "      <td>1</td>\n",
              "      <td>12.45</td>\n",
              "      <td>15.70</td>\n",
              "      <td>82.57</td>\n",
              "      <td>477.1</td>\n",
              "      <td>0.12780</td>\n",
              "      <td>0.17000</td>\n",
              "      <td>0.15780</td>\n",
              "      <td>0.08089</td>\n",
              "      <td>0.2087</td>\n",
              "      <td>...</td>\n",
              "      <td>15.470</td>\n",
              "      <td>23.75</td>\n",
              "      <td>103.40</td>\n",
              "      <td>741.6</td>\n",
              "      <td>0.17910</td>\n",
              "      <td>0.52490</td>\n",
              "      <td>0.5355</td>\n",
              "      <td>0.1741</td>\n",
              "      <td>0.3985</td>\n",
              "      <td>0.12440</td>\n",
              "    </tr>\n",
              "    <tr>\n",
              "      <th>...</th>\n",
              "      <td>...</td>\n",
              "      <td>...</td>\n",
              "      <td>...</td>\n",
              "      <td>...</td>\n",
              "      <td>...</td>\n",
              "      <td>...</td>\n",
              "      <td>...</td>\n",
              "      <td>...</td>\n",
              "      <td>...</td>\n",
              "      <td>...</td>\n",
              "      <td>...</td>\n",
              "      <td>...</td>\n",
              "      <td>...</td>\n",
              "      <td>...</td>\n",
              "      <td>...</td>\n",
              "      <td>...</td>\n",
              "      <td>...</td>\n",
              "      <td>...</td>\n",
              "      <td>...</td>\n",
              "      <td>...</td>\n",
              "      <td>...</td>\n",
              "    </tr>\n",
              "    <tr>\n",
              "      <th>563</th>\n",
              "      <td>1</td>\n",
              "      <td>21.56</td>\n",
              "      <td>22.39</td>\n",
              "      <td>142.00</td>\n",
              "      <td>1479.0</td>\n",
              "      <td>0.11100</td>\n",
              "      <td>0.11590</td>\n",
              "      <td>0.24390</td>\n",
              "      <td>0.13890</td>\n",
              "      <td>0.1726</td>\n",
              "      <td>...</td>\n",
              "      <td>25.450</td>\n",
              "      <td>26.40</td>\n",
              "      <td>166.10</td>\n",
              "      <td>2027.0</td>\n",
              "      <td>0.14100</td>\n",
              "      <td>0.21130</td>\n",
              "      <td>0.4107</td>\n",
              "      <td>0.2216</td>\n",
              "      <td>0.2060</td>\n",
              "      <td>0.07115</td>\n",
              "    </tr>\n",
              "    <tr>\n",
              "      <th>564</th>\n",
              "      <td>1</td>\n",
              "      <td>20.13</td>\n",
              "      <td>28.25</td>\n",
              "      <td>131.20</td>\n",
              "      <td>1261.0</td>\n",
              "      <td>0.09780</td>\n",
              "      <td>0.10340</td>\n",
              "      <td>0.14400</td>\n",
              "      <td>0.09791</td>\n",
              "      <td>0.1752</td>\n",
              "      <td>...</td>\n",
              "      <td>23.690</td>\n",
              "      <td>38.25</td>\n",
              "      <td>155.00</td>\n",
              "      <td>1731.0</td>\n",
              "      <td>0.11660</td>\n",
              "      <td>0.19220</td>\n",
              "      <td>0.3215</td>\n",
              "      <td>0.1628</td>\n",
              "      <td>0.2572</td>\n",
              "      <td>0.06637</td>\n",
              "    </tr>\n",
              "    <tr>\n",
              "      <th>565</th>\n",
              "      <td>1</td>\n",
              "      <td>16.60</td>\n",
              "      <td>28.08</td>\n",
              "      <td>108.30</td>\n",
              "      <td>858.1</td>\n",
              "      <td>0.08455</td>\n",
              "      <td>0.10230</td>\n",
              "      <td>0.09251</td>\n",
              "      <td>0.05302</td>\n",
              "      <td>0.1590</td>\n",
              "      <td>...</td>\n",
              "      <td>18.980</td>\n",
              "      <td>34.12</td>\n",
              "      <td>126.70</td>\n",
              "      <td>1124.0</td>\n",
              "      <td>0.11390</td>\n",
              "      <td>0.30940</td>\n",
              "      <td>0.3403</td>\n",
              "      <td>0.1418</td>\n",
              "      <td>0.2218</td>\n",
              "      <td>0.07820</td>\n",
              "    </tr>\n",
              "    <tr>\n",
              "      <th>566</th>\n",
              "      <td>1</td>\n",
              "      <td>20.60</td>\n",
              "      <td>29.33</td>\n",
              "      <td>140.10</td>\n",
              "      <td>1265.0</td>\n",
              "      <td>0.11780</td>\n",
              "      <td>0.27700</td>\n",
              "      <td>0.35140</td>\n",
              "      <td>0.15200</td>\n",
              "      <td>0.2397</td>\n",
              "      <td>...</td>\n",
              "      <td>25.740</td>\n",
              "      <td>39.42</td>\n",
              "      <td>184.60</td>\n",
              "      <td>1821.0</td>\n",
              "      <td>0.16500</td>\n",
              "      <td>0.86810</td>\n",
              "      <td>0.9387</td>\n",
              "      <td>0.2650</td>\n",
              "      <td>0.4087</td>\n",
              "      <td>0.12400</td>\n",
              "    </tr>\n",
              "    <tr>\n",
              "      <th>567</th>\n",
              "      <td>0</td>\n",
              "      <td>7.76</td>\n",
              "      <td>24.54</td>\n",
              "      <td>47.92</td>\n",
              "      <td>181.0</td>\n",
              "      <td>0.05263</td>\n",
              "      <td>0.04362</td>\n",
              "      <td>0.00000</td>\n",
              "      <td>0.00000</td>\n",
              "      <td>0.1587</td>\n",
              "      <td>...</td>\n",
              "      <td>9.456</td>\n",
              "      <td>30.37</td>\n",
              "      <td>59.16</td>\n",
              "      <td>268.6</td>\n",
              "      <td>0.08996</td>\n",
              "      <td>0.06444</td>\n",
              "      <td>0.0000</td>\n",
              "      <td>0.0000</td>\n",
              "      <td>0.2871</td>\n",
              "      <td>0.07039</td>\n",
              "    </tr>\n",
              "  </tbody>\n",
              "</table>\n",
              "<p>568 rows × 31 columns</p>\n",
              "</div>\n",
              "      <button class=\"colab-df-convert\" onclick=\"convertToInteractive('df-b6683198-4d52-4444-b5e2-56d59ea922ad')\"\n",
              "              title=\"Convert this dataframe to an interactive table.\"\n",
              "              style=\"display:none;\">\n",
              "        \n",
              "  <svg xmlns=\"http://www.w3.org/2000/svg\" height=\"24px\"viewBox=\"0 0 24 24\"\n",
              "       width=\"24px\">\n",
              "    <path d=\"M0 0h24v24H0V0z\" fill=\"none\"/>\n",
              "    <path d=\"M18.56 5.44l.94 2.06.94-2.06 2.06-.94-2.06-.94-.94-2.06-.94 2.06-2.06.94zm-11 1L8.5 8.5l.94-2.06 2.06-.94-2.06-.94L8.5 2.5l-.94 2.06-2.06.94zm10 10l.94 2.06.94-2.06 2.06-.94-2.06-.94-.94-2.06-.94 2.06-2.06.94z\"/><path d=\"M17.41 7.96l-1.37-1.37c-.4-.4-.92-.59-1.43-.59-.52 0-1.04.2-1.43.59L10.3 9.45l-7.72 7.72c-.78.78-.78 2.05 0 2.83L4 21.41c.39.39.9.59 1.41.59.51 0 1.02-.2 1.41-.59l7.78-7.78 2.81-2.81c.8-.78.8-2.07 0-2.86zM5.41 20L4 18.59l7.72-7.72 1.47 1.35L5.41 20z\"/>\n",
              "  </svg>\n",
              "      </button>\n",
              "      \n",
              "  <style>\n",
              "    .colab-df-container {\n",
              "      display:flex;\n",
              "      flex-wrap:wrap;\n",
              "      gap: 12px;\n",
              "    }\n",
              "\n",
              "    .colab-df-convert {\n",
              "      background-color: #E8F0FE;\n",
              "      border: none;\n",
              "      border-radius: 50%;\n",
              "      cursor: pointer;\n",
              "      display: none;\n",
              "      fill: #1967D2;\n",
              "      height: 32px;\n",
              "      padding: 0 0 0 0;\n",
              "      width: 32px;\n",
              "    }\n",
              "\n",
              "    .colab-df-convert:hover {\n",
              "      background-color: #E2EBFA;\n",
              "      box-shadow: 0px 1px 2px rgba(60, 64, 67, 0.3), 0px 1px 3px 1px rgba(60, 64, 67, 0.15);\n",
              "      fill: #174EA6;\n",
              "    }\n",
              "\n",
              "    [theme=dark] .colab-df-convert {\n",
              "      background-color: #3B4455;\n",
              "      fill: #D2E3FC;\n",
              "    }\n",
              "\n",
              "    [theme=dark] .colab-df-convert:hover {\n",
              "      background-color: #434B5C;\n",
              "      box-shadow: 0px 1px 3px 1px rgba(0, 0, 0, 0.15);\n",
              "      filter: drop-shadow(0px 1px 2px rgba(0, 0, 0, 0.3));\n",
              "      fill: #FFFFFF;\n",
              "    }\n",
              "  </style>\n",
              "\n",
              "      <script>\n",
              "        const buttonEl =\n",
              "          document.querySelector('#df-b6683198-4d52-4444-b5e2-56d59ea922ad button.colab-df-convert');\n",
              "        buttonEl.style.display =\n",
              "          google.colab.kernel.accessAllowed ? 'block' : 'none';\n",
              "\n",
              "        async function convertToInteractive(key) {\n",
              "          const element = document.querySelector('#df-b6683198-4d52-4444-b5e2-56d59ea922ad');\n",
              "          const dataTable =\n",
              "            await google.colab.kernel.invokeFunction('convertToInteractive',\n",
              "                                                     [key], {});\n",
              "          if (!dataTable) return;\n",
              "\n",
              "          const docLinkHtml = 'Like what you see? Visit the ' +\n",
              "            '<a target=\"_blank\" href=https://colab.research.google.com/notebooks/data_table.ipynb>data table notebook</a>'\n",
              "            + ' to learn more about interactive tables.';\n",
              "          element.innerHTML = '';\n",
              "          dataTable['output_type'] = 'display_data';\n",
              "          await google.colab.output.renderOutput(dataTable, element);\n",
              "          const docLink = document.createElement('div');\n",
              "          docLink.innerHTML = docLinkHtml;\n",
              "          element.appendChild(docLink);\n",
              "        }\n",
              "      </script>\n",
              "    </div>\n",
              "  </div>\n",
              "  "
            ],
            "text/plain": [
              "     resultado     c1     c2      c3      c4       c5       c6       c7  \\\n",
              "0            1  20.57  17.77  132.90  1326.0  0.08474  0.07864  0.08690   \n",
              "1            1  19.69  21.25  130.00  1203.0  0.10960  0.15990  0.19740   \n",
              "2            1  11.42  20.38   77.58   386.1  0.14250  0.28390  0.24140   \n",
              "3            1  20.29  14.34  135.10  1297.0  0.10030  0.13280  0.19800   \n",
              "4            1  12.45  15.70   82.57   477.1  0.12780  0.17000  0.15780   \n",
              "..         ...    ...    ...     ...     ...      ...      ...      ...   \n",
              "563          1  21.56  22.39  142.00  1479.0  0.11100  0.11590  0.24390   \n",
              "564          1  20.13  28.25  131.20  1261.0  0.09780  0.10340  0.14400   \n",
              "565          1  16.60  28.08  108.30   858.1  0.08455  0.10230  0.09251   \n",
              "566          1  20.60  29.33  140.10  1265.0  0.11780  0.27700  0.35140   \n",
              "567          0   7.76  24.54   47.92   181.0  0.05263  0.04362  0.00000   \n",
              "\n",
              "          c8      c9  ...     c21    c22     c23     c24      c25      c26  \\\n",
              "0    0.07017  0.1812  ...  24.990  23.41  158.80  1956.0  0.12380  0.18660   \n",
              "1    0.12790  0.2069  ...  23.570  25.53  152.50  1709.0  0.14440  0.42450   \n",
              "2    0.10520  0.2597  ...  14.910  26.50   98.87   567.7  0.20980  0.86630   \n",
              "3    0.10430  0.1809  ...  22.540  16.67  152.20  1575.0  0.13740  0.20500   \n",
              "4    0.08089  0.2087  ...  15.470  23.75  103.40   741.6  0.17910  0.52490   \n",
              "..       ...     ...  ...     ...    ...     ...     ...      ...      ...   \n",
              "563  0.13890  0.1726  ...  25.450  26.40  166.10  2027.0  0.14100  0.21130   \n",
              "564  0.09791  0.1752  ...  23.690  38.25  155.00  1731.0  0.11660  0.19220   \n",
              "565  0.05302  0.1590  ...  18.980  34.12  126.70  1124.0  0.11390  0.30940   \n",
              "566  0.15200  0.2397  ...  25.740  39.42  184.60  1821.0  0.16500  0.86810   \n",
              "567  0.00000  0.1587  ...   9.456  30.37   59.16   268.6  0.08996  0.06444   \n",
              "\n",
              "        c27     c28     c29      c30  \n",
              "0    0.2416  0.1860  0.2750  0.08902  \n",
              "1    0.4504  0.2430  0.3613  0.08758  \n",
              "2    0.6869  0.2575  0.6638  0.17300  \n",
              "3    0.4000  0.1625  0.2364  0.07678  \n",
              "4    0.5355  0.1741  0.3985  0.12440  \n",
              "..      ...     ...     ...      ...  \n",
              "563  0.4107  0.2216  0.2060  0.07115  \n",
              "564  0.3215  0.1628  0.2572  0.06637  \n",
              "565  0.3403  0.1418  0.2218  0.07820  \n",
              "566  0.9387  0.2650  0.4087  0.12400  \n",
              "567  0.0000  0.0000  0.2871  0.07039  \n",
              "\n",
              "[568 rows x 31 columns]"
            ]
          },
          "execution_count": 3,
          "metadata": {},
          "output_type": "execute_result"
        }
      ],
      "source": [
        "data['resultado'] = data['resultado'].replace('M',1)\n",
        "data['resultado'] = data['resultado'].replace('B',0)\n",
        "data = data.drop(['id'],axis=1)\n",
        "data"
      ]
    },
    {
      "cell_type": "markdown",
      "metadata": {
        "id": "jl10SiOSCL4s"
      },
      "source": [
        "# 1. Se debe visualizar relaciones entre variables usando los métodos vistos en clase"
      ]
    },
    {
      "cell_type": "markdown",
      "metadata": {
        "id": "tFhXw88XCulj"
      },
      "source": [
        "## Matriz de correlación"
      ]
    },
    {
      "cell_type": "code",
      "execution_count": null,
      "metadata": {
        "colab": {
          "base_uri": "https://localhost:8080/",
          "height": 535
        },
        "id": "jxh1teYGCRsD",
        "outputId": "f63fdb23-2b1a-489b-df8b-56e1f60f77ef"
      },
      "outputs": [
        {
          "data": {
            "image/png": "[encoded data removed]",
            "text/plain": [
              "<Figure size 576x576 with 1 Axes>"
            ]
          },
          "metadata": {
            "needs_background": "light"
          },
          "output_type": "display_data"
        }
      ],
      "source": [
        "corr = data.corr()\n",
        "\n",
        "fig = plt.figure(figsize=(8,8))\n",
        "plt.matshow(corr,cmap = 'RdBu' ,fignum=fig.number)\n",
        "plt.xticks(range(len(corr.columns)),corr.columns,rotation='vertical');\n",
        "plt.yticks(range(len(corr.columns)),corr.columns);"
      ]
    },
    {
      "cell_type": "markdown",
      "metadata": {
        "id": "XfojUvAFPX2m"
      },
      "source": [
        "## Correlación de las columnas con la columna 'resultado' en orden descendiente para identificar las columnas con mayor correlación"
      ]
    },
    {
      "cell_type": "code",
      "execution_count": null,
      "metadata": {
        "colab": {
          "base_uri": "https://localhost:8080/"
        },
        "id": "it-Hr8zbLi8v",
        "outputId": "5a2aa90c-07ee-439d-eff0-d8aa61b7a2ad"
      },
      "outputs": [
        {
          "name": "stdout",
          "output_type": "stream",
          "text": [
            "resultado    1.000000\n",
            "c28          0.793181\n",
            "c23          0.782470\n",
            "c8           0.776369\n",
            "c21          0.775725\n",
            "c3           0.741887\n",
            "c24          0.732925\n",
            "c1           0.729376\n",
            "c4           0.708389\n",
            "c7           0.695648\n",
            "c27          0.658348\n",
            "c6           0.595587\n",
            "c26          0.589453\n",
            "c11          0.565373\n",
            "c13          0.554416\n",
            "c14          0.546343\n",
            "c22          0.461443\n",
            "c2           0.422146\n",
            "c25          0.419731\n",
            "c29          0.413382\n",
            "c18          0.407293\n",
            "c5           0.356276\n",
            "c9           0.327336\n",
            "c30          0.320983\n",
            "c16          0.290866\n",
            "c17          0.252567\n",
            "c20          0.076068\n",
            "c12         -0.007024\n",
            "c19         -0.009170\n",
            "c10         -0.018099\n",
            "c15         -0.066629\n",
            "Name: resultado, dtype: float64\n"
          ]
        }
      ],
      "source": [
        "corr_matrix = data.corr()\n",
        "corr_values = corr_matrix['resultado'].sort_values(ascending=False)\n",
        "print(corr_values)"
      ]
    },
    {
      "cell_type": "markdown",
      "metadata": {
        "id": "WqYPH_CpCwvT"
      },
      "source": [
        "## Diagrama de dispersión con respecto a la columna 'resultado' la cuál contiene la información de si es benigno o maligno"
      ]
    },
    {
      "cell_type": "code",
      "execution_count": null,
      "metadata": {
        "colab": {
          "base_uri": "https://localhost:8080/",
          "height": 1000
        },
        "id": "_xjc6Z-aDFnD",
        "outputId": "e7b6284b-2a22-4df8-ecaf-74dad3bebb1e"
      },
      "outputs": [
        {
          "name": "stderr",
          "output_type": "stream",
          "text": [
            "/usr/local/lib/python3.9/dist-packages/pandas/plotting/_matplotlib/core.py:1114: UserWarning: No data for colormapping provided via 'c'. Parameters 'cmap' will be ignored\n",
            "  scatter = ax.scatter(\n",
            "/usr/local/lib/python3.9/dist-packages/pandas/plotting/_matplotlib/core.py:386: RuntimeWarning: More than 20 figures have been opened. Figures created through the pyplot interface (`matplotlib.pyplot.figure`) are retained until explicitly closed and may consume too much memory. (To control this warning, see the rcParam `figure.max_open_warning`). Consider using `matplotlib.pyplot.close()`.\n",
            "  fig = self.plt.figure(figsize=self.figsize)\n"
          ]
        },
        {
          "data": {
            "image/png": "[encoded data removed]",
            "text/plain": [
              "<Figure size 432x432 with 1 Axes>"
            ]
          },
          "metadata": {
            "needs_background": "light"
          },
          "output_type": "display_data"
        },
        {
          "data": {
            "image/png": "[encoded data removed]",
            "text/plain": [
              "<Figure size 432x432 with 1 Axes>"
            ]
          },
          "metadata": {
            "needs_background": "light"
          },
          "output_type": "display_data"
        },
        {
          "data": {
            "image/png": "[encoded data removed]",
            "text/plain": [
              "<Figure size 432x432 with 1 Axes>"
            ]
          },
          "metadata": {
            "needs_background": "light"
          },
          "output_type": "display_data"
        },
        {
          "data": {
            "image/png": "[encoded data removed]",
            "text/plain": [
              "<Figure size 432x432 with 1 Axes>"
            ]
          },
          "metadata": {
            "needs_background": "light"
          },
          "output_type": "display_data"
        },
        {
          "data": {
            "image/png": "[encoded data removed]",
            "text/plain": [
              "<Figure size 432x432 with 1 Axes>"
            ]
          },
          "metadata": {
            "needs_background": "light"
          },
          "output_type": "display_data"
        },
        {
          "data": {
            "image/png": "[encoded data removed]",
            "text/plain": [
              "<Figure size 432x432 with 1 Axes>"
            ]
          },
          "metadata": {
            "needs_background": "light"
          },
          "output_type": "display_data"
        },
        {
          "data": {
            "image/png": "[encoded data removed]",
            "text/plain": [
              "<Figure size 432x432 with 1 Axes>"
            ]
          },
          "metadata": {
            "needs_background": "light"
          },
          "output_type": "display_data"
        },
        {
          "data": {
            "image/png": "[encoded data removed]",
            "text/plain": [
              "<Figure size 432x432 with 1 Axes>"
            ]
          },
          "metadata": {
            "needs_background": "light"
          },
          "output_type": "display_data"
        },
        {
          "data": {
            "image/png": "[encoded data removed]",
            "text/plain": [
              "<Figure size 432x432 with 1 Axes>"
            ]
          },
          "metadata": {
            "needs_background": "light"
          },
          "output_type": "display_data"
        },
        {
          "data": {
            "image/png": "[encoded data removed]",
            "text/plain": [
              "<Figure size 432x432 with 1 Axes>"
            ]
          },
          "metadata": {
            "needs_background": "light"
          },
          "output_type": "display_data"
        },
        {
          "data": {
            "image/png": "[encoded data removed]",
            "text/plain": [
              "<Figure size 432x432 with 1 Axes>"
            ]
          },
          "metadata": {
            "needs_background": "light"
          },
          "output_type": "display_data"
        },
        {
          "data": {
            "image/png": "[encoded data removed]",
            "text/plain": [
              "<Figure size 432x432 with 1 Axes>"
            ]
          },
          "metadata": {
            "needs_background": "light"
          },
          "output_type": "display_data"
        },
        {
          "data": {
            "image/png": "[encoded data removed]",
            "text/plain": [
              "<Figure size 432x432 with 1 Axes>"
            ]
          },
          "metadata": {
            "needs_background": "light"
          },
          "output_type": "display_data"
        },
        {
          "data": {
            "image/png": "[encoded data removed]",
            "text/plain": [
              "<Figure size 432x432 with 1 Axes>"
            ]
          },
          "metadata": {
            "needs_background": "light"
          },
          "output_type": "display_data"
        },
        {
          "data": {
            "image/png": "[encoded data removed]",
            "text/plain": [
              "<Figure size 432x432 with 1 Axes>"
            ]
          },
          "metadata": {
            "needs_background": "light"
          },
          "output_type": "display_data"
        },
        {
          "data": {
            "image/png": "[encoded data removed]",
            "text/plain": [
              "<Figure size 432x432 with 1 Axes>"
            ]
          },
          "metadata": {
            "needs_background": "light"
          },
          "output_type": "display_data"
        },
        {
          "data": {
            "image/png": "[encoded data removed]",
            "text/plain": [
              "<Figure size 432x432 with 1 Axes>"
            ]
          },
          "metadata": {
            "needs_background": "light"
          },
          "output_type": "display_data"
        },
        {
          "data": {
            "image/png": "[encoded data removed]",
            "text/plain": [
              "<Figure size 432x432 with 1 Axes>"
            ]
          },
          "metadata": {
            "needs_background": "light"
          },
          "output_type": "display_data"
        },
        {
          "data": {
            "image/png": "[encoded data removed]",
            "text/plain": [
              "<Figure size 432x432 with 1 Axes>"
            ]
          },
          "metadata": {
            "needs_background": "light"
          },
          "output_type": "display_data"
        },
        {
          "data": {
            "image/png": "[encoded data removed]",
            "text/plain": [
              "<Figure size 432x432 with 1 Axes>"
            ]
          },
          "metadata": {
            "needs_background": "light"
          },
          "output_type": "display_data"
        },
        {
          "data": {
            "image/png": "[encoded data removed]",
            "text/plain": [
              "<Figure size 432x432 with 1 Axes>"
            ]
          },
          "metadata": {
            "needs_background": "light"
          },
          "output_type": "display_data"
        },
        {
          "data": {
            "image/png": "[encoded data removed]",
            "text/plain": [
              "<Figure size 432x432 with 1 Axes>"
            ]
          },
          "metadata": {
            "needs_background": "light"
          },
          "output_type": "display_data"
        },
        {
          "data": {
            "image/png": "[encoded data removed]",
            "text/plain": [
              "<Figure size 432x432 with 1 Axes>"
            ]
          },
          "metadata": {
            "needs_background": "light"
          },
          "output_type": "display_data"
        },
        {
          "data": {
            "image/png": "[encoded data removed]",
            "text/plain": [
              "<Figure size 432x432 with 1 Axes>"
            ]
          },
          "metadata": {
            "needs_background": "light"
          },
          "output_type": "display_data"
        },
        {
          "data": {
            "image/png": "[encoded data removed]",
            "text/plain": [
              "<Figure size 432x432 with 1 Axes>"
            ]
          },
          "metadata": {
            "needs_background": "light"
          },
          "output_type": "display_data"
        },
        {
          "data": {
            "image/png": "[encoded data removed]",
            "text/plain": [
              "<Figure size 432x432 with 1 Axes>"
            ]
          },
          "metadata": {
            "needs_background": "light"
          },
          "output_type": "display_data"
        },
        {
          "data": {
            "image/png": "[encoded data removed]",
            "text/plain": [
              "<Figure size 432x432 with 1 Axes>"
            ]
          },
          "metadata": {
            "needs_background": "light"
          },
          "output_type": "display_data"
        },
        {
          "data": {
            "image/png": "[encoded data removed]",
            "text/plain": [
              "<Figure size 432x432 with 1 Axes>"
            ]
          },
          "metadata": {
            "needs_background": "light"
          },
          "output_type": "display_data"
        },
        {
          "data": {
            "image/png": "[encoded data removed]",
            "text/plain": [
              "<Figure size 432x432 with 1 Axes>"
            ]
          },
          "metadata": {
            "needs_background": "light"
          },
          "output_type": "display_data"
        },
        {
          "data": {
            "image/png": "[encoded data removed]",
            "text/plain": [
              "<Figure size 432x432 with 1 Axes>"
            ]
          },
          "metadata": {
            "needs_background": "light"
          },
          "output_type": "display_data"
        }
      ],
      "source": [
        "for i in columnas[2:]:\n",
        "  data.plot(kind='scatter',x =columnas[1],y=i,figsize=(6,6))"
      ]
    },
    {
      "cell_type": "markdown",
      "metadata": {
        "id": "0Urr_tL4EHPr"
      },
      "source": [
        "# 2. Encontrar valores atípicos o faltantes entre las columnas de los registros.En caso de que existan, cuantificarlos (contarlos) para conocer el número total de ellos"
      ]
    },
    {
      "cell_type": "markdown",
      "metadata": {
        "id": "IM8sOantHMRk"
      },
      "source": [
        "## Identificación de atípicos por medio de gráficas"
      ]
    },
    {
      "cell_type": "code",
      "execution_count": null,
      "metadata": {
        "colab": {
          "base_uri": "https://localhost:8080/",
          "height": 762
        },
        "id": "RcSNLdSiEQ1z",
        "outputId": "a2980de8-d9f0-489f-ca88-de5c9c29cd5e"
      },
      "outputs": [
        {
          "data": {
            "text/plain": [
              "c1        Axes(0.125,0.657941;0.133621x0.222059)\n",
              "c2     Axes(0.285345,0.657941;0.133621x0.222059)\n",
              "c3      Axes(0.44569,0.657941;0.133621x0.222059)\n",
              "c4     Axes(0.606034,0.657941;0.133621x0.222059)\n",
              "c5     Axes(0.766379,0.657941;0.133621x0.222059)\n",
              "c6        Axes(0.125,0.391471;0.133621x0.222059)\n",
              "c7     Axes(0.285345,0.391471;0.133621x0.222059)\n",
              "c8      Axes(0.44569,0.391471;0.133621x0.222059)\n",
              "c9     Axes(0.606034,0.391471;0.133621x0.222059)\n",
              "c10    Axes(0.766379,0.391471;0.133621x0.222059)\n",
              "c11          Axes(0.125,0.125;0.133621x0.222059)\n",
              "c12       Axes(0.285345,0.125;0.133621x0.222059)\n",
              "c13        Axes(0.44569,0.125;0.133621x0.222059)\n",
              "c14       Axes(0.606034,0.125;0.133621x0.222059)\n",
              "c15       Axes(0.766379,0.125;0.133621x0.222059)\n",
              "dtype: object"
            ]
          },
          "execution_count": 7,
          "metadata": {},
          "output_type": "execute_result"
        },
        {
          "data": {
            "image/png": "[encoded data removed]",
            "text/plain": [
              "<Figure size 1008x576 with 15 Axes>"
            ]
          },
          "metadata": {
            "needs_background": "light"
          },
          "output_type": "display_data"
        }
      ],
      "source": [
        "boxplots_cols = columnas[2:17]\n",
        "data[boxplots_cols].plot(kind='box',subplots=True,layout=(3,5),figsize=(14,8))"
      ]
    },
    {
      "cell_type": "code",
      "execution_count": null,
      "metadata": {
        "colab": {
          "base_uri": "https://localhost:8080/",
          "height": 761
        },
        "id": "RRCcQxzMG6yz",
        "outputId": "5facef1c-ce17-4206-fd9e-a02d43eb9479"
      },
      "outputs": [
        {
          "data": {
            "text/plain": [
              "c16       Axes(0.125,0.657941;0.133621x0.222059)\n",
              "c17    Axes(0.285345,0.657941;0.133621x0.222059)\n",
              "c18     Axes(0.44569,0.657941;0.133621x0.222059)\n",
              "c19    Axes(0.606034,0.657941;0.133621x0.222059)\n",
              "c20    Axes(0.766379,0.657941;0.133621x0.222059)\n",
              "c21       Axes(0.125,0.391471;0.133621x0.222059)\n",
              "c22    Axes(0.285345,0.391471;0.133621x0.222059)\n",
              "c23     Axes(0.44569,0.391471;0.133621x0.222059)\n",
              "c24    Axes(0.606034,0.391471;0.133621x0.222059)\n",
              "c25    Axes(0.766379,0.391471;0.133621x0.222059)\n",
              "c26          Axes(0.125,0.125;0.133621x0.222059)\n",
              "c27       Axes(0.285345,0.125;0.133621x0.222059)\n",
              "c28        Axes(0.44569,0.125;0.133621x0.222059)\n",
              "c29       Axes(0.606034,0.125;0.133621x0.222059)\n",
              "c30       Axes(0.766379,0.125;0.133621x0.222059)\n",
              "dtype: object"
            ]
          },
          "execution_count": 8,
          "metadata": {},
          "output_type": "execute_result"
        },
        {
          "data": {
            "image/png": "[encoded data removed]",
            "text/plain": [
              "<Figure size 1008x576 with 15 Axes>"
            ]
          },
          "metadata": {
            "needs_background": "light"
          },
          "output_type": "display_data"
        }
      ],
      "source": [
        "boxplots_cols = columnas[17:]\n",
        "data[boxplots_cols].plot(kind='box',subplots=True,layout=(3,5),figsize=(14,8))"
      ]
    },
    {
      "cell_type": "markdown",
      "metadata": {
        "id": "s5ijyrzcHLaM"
      },
      "source": [
        "## Cuantificación de atípicos totales"
      ]
    },
    {
      "cell_type": "code",
      "execution_count": null,
      "metadata": {
        "colab": {
          "base_uri": "https://localhost:8080/"
        },
        "id": "S-uFyhPrHb4U",
        "outputId": "ed595532-6b65-43f2-c138-9982a5b70f73"
      },
      "outputs": [
        {
          "name": "stdout",
          "output_type": "stream",
          "text": [
            "Columna: c1 Cantidad Atípicos: 13\n",
            "Columna: c2 Cantidad Atípicos: 7\n",
            "Columna: c3 Cantidad Atípicos: 13\n",
            "Columna: c4 Cantidad Atípicos: 24\n",
            "Columna: c5 Cantidad Atípicos: 6\n",
            "Columna: c6 Cantidad Atípicos: 14\n",
            "Columna: c7 Cantidad Atípicos: 17\n",
            "Columna: c8 Cantidad Atípicos: 9\n",
            "Columna: c9 Cantidad Atípicos: 15\n",
            "Columna: c10 Cantidad Atípicos: 15\n",
            "Columna: c11 Cantidad Atípicos: 36\n",
            "Columna: c12 Cantidad Atípicos: 18\n",
            "Columna: c13 Cantidad Atípicos: 37\n",
            "Columna: c14 Cantidad Atípicos: 63\n",
            "Columna: c15 Cantidad Atípicos: 28\n",
            "Columna: c16 Cantidad Atípicos: 27\n",
            "Columna: c17 Cantidad Atípicos: 22\n",
            "Columna: c18 Cantidad Atípicos: 18\n",
            "Columna: c19 Cantidad Atípicos: 27\n",
            "Columna: c20 Cantidad Atípicos: 28\n",
            "Columna: c21 Cantidad Atípicos: 16\n",
            "Columna: c22 Cantidad Atípicos: 4\n",
            "Columna: c23 Cantidad Atípicos: 13\n",
            "Columna: c24 Cantidad Atípicos: 33\n",
            "Columna: c25 Cantidad Atípicos: 4\n",
            "Columna: c26 Cantidad Atípicos: 15\n",
            "Columna: c27 Cantidad Atípicos: 11\n",
            "Columna: c28 Cantidad Atípicos: 0\n",
            "Columna: c29 Cantidad Atípicos: 21\n",
            "Columna: c30 Cantidad Atípicos: 22\n",
            "Existen 576 datos atípicos en total\n"
          ]
        }
      ],
      "source": [
        "atpT=0\n",
        "for i in columnas[2:]:\n",
        "  Q1 = data[i].quantile(0.25)\n",
        "  Q3 = data[i].quantile(0.75)\n",
        "  IQR = Q3 - Q1\n",
        "  u_limit_h = Q3 + 1.55 * IQR\n",
        "  l_limit_h = Q1 - 1.55 * IQR\n",
        "  '''\n",
        "  data.apply() permite ejecutar una función lambda con el código que deseemos\n",
        "  En este caso se usó para ubicar los valores atípicos sobre el limite superior \n",
        "  e inferiores al límite inferior, luego se aplica el .sum() para cuantificar la\n",
        "  cantidad de datos encontrados\n",
        "  '''\n",
        "  atpU = data.apply(lambda x: x[i] > u_limit_h,axis=1).sum() #Límite superior\n",
        "  atpL = data.apply(lambda x: x[i] < l_limit_h,axis=1).sum() #Límite inferior\n",
        "  atpC = atpU + atpL # Cantidad de atípicos por columna\n",
        "  atpT += atpU + atpL # Cantidad de atípicos total\n",
        "  print('Columna:',i,'Cantidad Atípicos:',atpC)\n",
        "\n",
        "print('Existen',atpT,'datos atípicos en total')"
      ]
    },
    {
      "cell_type": "markdown",
      "metadata": {
        "id": "maOfpIGuEWea"
      },
      "source": [
        "# 3. Encontrar los índices de los atípicos(si existen) y cuantificar cuántos registros contienen estos tipos de datos.NOTA:es diferente encontrar el número total vs el número de registros.Por ejemplo:Únicamente la fila 7 tiene un atípico en la columna 7,10 y 15.Del anterior ejemplo podemos afirmar que un registro contiene 3 datos atípicos y para solucionar dicho problema el proceso que debemos seguir es eliminar dicho registro."
      ]
    },
    {
      "cell_type": "markdown",
      "metadata": {
        "id": "0UAEnNu3Q2Ul"
      },
      "source": [
        "## Índices de los atípicos"
      ]
    },
    {
      "cell_type": "code",
      "execution_count": null,
      "metadata": {
        "colab": {
          "base_uri": "https://localhost:8080/",
          "height": 255
        },
        "id": "EIw4z3XqnduJ",
        "outputId": "886069fd-3317-4312-f26d-6ebc0d35c68c"
      },
      "outputs": [
        {
          "data": {
            "text/html": [
              "\n",
              "  <div id=\"df-0c39e762-1dab-4d37-95b0-e77e410a1ae2\">\n",
              "    <div class=\"colab-df-container\">\n",
              "      <div>\n",
              "<style scoped>\n",
              "    .dataframe tbody tr th:only-of-type {\n",
              "        vertical-align: middle;\n",
              "    }\n",
              "\n",
              "    .dataframe tbody tr th {\n",
              "        vertical-align: top;\n",
              "    }\n",
              "\n",
              "    .dataframe thead th {\n",
              "        text-align: right;\n",
              "    }\n",
              "</style>\n",
              "<table border=\"1\" class=\"dataframe\">\n",
              "  <thead>\n",
              "    <tr style=\"text-align: right;\">\n",
              "      <th></th>\n",
              "      <th>c1</th>\n",
              "      <th>c2</th>\n",
              "      <th>c3</th>\n",
              "      <th>c4</th>\n",
              "      <th>c5</th>\n",
              "      <th>c6</th>\n",
              "      <th>c7</th>\n",
              "      <th>c8</th>\n",
              "      <th>c9</th>\n",
              "      <th>c10</th>\n",
              "      <th>...</th>\n",
              "      <th>c21</th>\n",
              "      <th>c22</th>\n",
              "      <th>c23</th>\n",
              "      <th>c24</th>\n",
              "      <th>c25</th>\n",
              "      <th>c26</th>\n",
              "      <th>c27</th>\n",
              "      <th>c28</th>\n",
              "      <th>c29</th>\n",
              "      <th>c30</th>\n",
              "    </tr>\n",
              "  </thead>\n",
              "  <tbody>\n",
              "    <tr>\n",
              "      <th>0</th>\n",
              "      <td>[81, 107, 121, 163, 179, 201, 211, 235, 338, 3...</td>\n",
              "      <td>[218, 231, 238, 258, 264, 454, 561]</td>\n",
              "      <td>[81, 107, 121, 163, 179, 201, 211, 235, 338, 3...</td>\n",
              "      <td>[22, 81, 107, 121, 163, 179, 201, 211, 235, 24...</td>\n",
              "      <td>[2, 104, 121, 503, 519]</td>\n",
              "      <td>[2, 8, 11, 77, 81, 107, 121, 180, 189, 257, 35...</td>\n",
              "      <td>[67, 77, 81, 107, 111, 121, 151, 179, 201, 211...</td>\n",
              "      <td>[77, 81, 107, 121, 179, 201, 211, 351, 460]</td>\n",
              "      <td>[2, 21, 24, 59, 77, 107, 121, 145, 149, 151, 2...</td>\n",
              "      <td>[2, 8, 67, 70, 77, 150, 151, 175, 257, 317, 37...</td>\n",
              "      <td>...</td>\n",
              "      <td>[22, 81, 107, 163, 179, 211, 218, 235, 264, 27...</td>\n",
              "      <td>[218, 238, 258, 264]</td>\n",
              "      <td>[81, 107, 179, 235, 264, 271, 338, 351, 367, 3...</td>\n",
              "      <td>[0, 17, 22, 23, 55, 81, 107, 121, 161, 163, 17...</td>\n",
              "      <td>[2, 202, 378, 504]</td>\n",
              "      <td>[2, 8, 13, 14, 25, 32, 41, 71, 107, 180, 189, ...</td>\n",
              "      <td>[8, 67, 107, 151, 189, 251, 378, 399, 429, 561...</td>\n",
              "      <td>[]</td>\n",
              "      <td>[2, 7, 8, 21, 25, 30, 33, 34, 41, 67, 77, 118,...</td>\n",
              "      <td>[2, 4, 8, 13, 14, 25, 30, 71, 104, 117, 150, 1...</td>\n",
              "    </tr>\n",
              "    <tr>\n",
              "      <th>1</th>\n",
              "      <td>[]</td>\n",
              "      <td>[]</td>\n",
              "      <td>[]</td>\n",
              "      <td>[]</td>\n",
              "      <td>[567]</td>\n",
              "      <td>[]</td>\n",
              "      <td>[]</td>\n",
              "      <td>[]</td>\n",
              "      <td>[560]</td>\n",
              "      <td>[]</td>\n",
              "      <td>...</td>\n",
              "      <td>[]</td>\n",
              "      <td>[]</td>\n",
              "      <td>[]</td>\n",
              "      <td>[]</td>\n",
              "      <td>[]</td>\n",
              "      <td>[]</td>\n",
              "      <td>[]</td>\n",
              "      <td>[]</td>\n",
              "      <td>[]</td>\n",
              "      <td>[]</td>\n",
              "    </tr>\n",
              "  </tbody>\n",
              "</table>\n",
              "<p>2 rows × 30 columns</p>\n",
              "</div>\n",
              "      <button class=\"colab-df-convert\" onclick=\"convertToInteractive('df-0c39e762-1dab-4d37-95b0-e77e410a1ae2')\"\n",
              "              title=\"Convert this dataframe to an interactive table.\"\n",
              "              style=\"display:none;\">\n",
              "        \n",
              "  <svg xmlns=\"http://www.w3.org/2000/svg\" height=\"24px\"viewBox=\"0 0 24 24\"\n",
              "       width=\"24px\">\n",
              "    <path d=\"M0 0h24v24H0V0z\" fill=\"none\"/>\n",
              "    <path d=\"M18.56 5.44l.94 2.06.94-2.06 2.06-.94-2.06-.94-.94-2.06-.94 2.06-2.06.94zm-11 1L8.5 8.5l.94-2.06 2.06-.94-2.06-.94L8.5 2.5l-.94 2.06-2.06.94zm10 10l.94 2.06.94-2.06 2.06-.94-2.06-.94-.94-2.06-.94 2.06-2.06.94z\"/><path d=\"M17.41 7.96l-1.37-1.37c-.4-.4-.92-.59-1.43-.59-.52 0-1.04.2-1.43.59L10.3 9.45l-7.72 7.72c-.78.78-.78 2.05 0 2.83L4 21.41c.39.39.9.59 1.41.59.51 0 1.02-.2 1.41-.59l7.78-7.78 2.81-2.81c.8-.78.8-2.07 0-2.86zM5.41 20L4 18.59l7.72-7.72 1.47 1.35L5.41 20z\"/>\n",
              "  </svg>\n",
              "      </button>\n",
              "      \n",
              "  <style>\n",
              "    .colab-df-container {\n",
              "      display:flex;\n",
              "      flex-wrap:wrap;\n",
              "      gap: 12px;\n",
              "    }\n",
              "\n",
              "    .colab-df-convert {\n",
              "      background-color: #E8F0FE;\n",
              "      border: none;\n",
              "      border-radius: 50%;\n",
              "      cursor: pointer;\n",
              "      display: none;\n",
              "      fill: #1967D2;\n",
              "      height: 32px;\n",
              "      padding: 0 0 0 0;\n",
              "      width: 32px;\n",
              "    }\n",
              "\n",
              "    .colab-df-convert:hover {\n",
              "      background-color: #E2EBFA;\n",
              "      box-shadow: 0px 1px 2px rgba(60, 64, 67, 0.3), 0px 1px 3px 1px rgba(60, 64, 67, 0.15);\n",
              "      fill: #174EA6;\n",
              "    }\n",
              "\n",
              "    [theme=dark] .colab-df-convert {\n",
              "      background-color: #3B4455;\n",
              "      fill: #D2E3FC;\n",
              "    }\n",
              "\n",
              "    [theme=dark] .colab-df-convert:hover {\n",
              "      background-color: #434B5C;\n",
              "      box-shadow: 0px 1px 3px 1px rgba(0, 0, 0, 0.15);\n",
              "      filter: drop-shadow(0px 1px 2px rgba(0, 0, 0, 0.3));\n",
              "      fill: #FFFFFF;\n",
              "    }\n",
              "  </style>\n",
              "\n",
              "      <script>\n",
              "        const buttonEl =\n",
              "          document.querySelector('#df-0c39e762-1dab-4d37-95b0-e77e410a1ae2 button.colab-df-convert');\n",
              "        buttonEl.style.display =\n",
              "          google.colab.kernel.accessAllowed ? 'block' : 'none';\n",
              "\n",
              "        async function convertToInteractive(key) {\n",
              "          const element = document.querySelector('#df-0c39e762-1dab-4d37-95b0-e77e410a1ae2');\n",
              "          const dataTable =\n",
              "            await google.colab.kernel.invokeFunction('convertToInteractive',\n",
              "                                                     [key], {});\n",
              "          if (!dataTable) return;\n",
              "\n",
              "          const docLinkHtml = 'Like what you see? Visit the ' +\n",
              "            '<a target=\"_blank\" href=https://colab.research.google.com/notebooks/data_table.ipynb>data table notebook</a>'\n",
              "            + ' to learn more about interactive tables.';\n",
              "          element.innerHTML = '';\n",
              "          dataTable['output_type'] = 'display_data';\n",
              "          await google.colab.output.renderOutput(dataTable, element);\n",
              "          const docLink = document.createElement('div');\n",
              "          docLink.innerHTML = docLinkHtml;\n",
              "          element.appendChild(docLink);\n",
              "        }\n",
              "      </script>\n",
              "    </div>\n",
              "  </div>\n",
              "  "
            ],
            "text/plain": [
              "                                                  c1  \\\n",
              "0  [81, 107, 121, 163, 179, 201, 211, 235, 338, 3...   \n",
              "1                                                 []   \n",
              "\n",
              "                                    c2  \\\n",
              "0  [218, 231, 238, 258, 264, 454, 561]   \n",
              "1                                   []   \n",
              "\n",
              "                                                  c3  \\\n",
              "0  [81, 107, 121, 163, 179, 201, 211, 235, 338, 3...   \n",
              "1                                                 []   \n",
              "\n",
              "                                                  c4                       c5  \\\n",
              "0  [22, 81, 107, 121, 163, 179, 201, 211, 235, 24...  [2, 104, 121, 503, 519]   \n",
              "1                                                 []                    [567]   \n",
              "\n",
              "                                                  c6  \\\n",
              "0  [2, 8, 11, 77, 81, 107, 121, 180, 189, 257, 35...   \n",
              "1                                                 []   \n",
              "\n",
              "                                                  c7  \\\n",
              "0  [67, 77, 81, 107, 111, 121, 151, 179, 201, 211...   \n",
              "1                                                 []   \n",
              "\n",
              "                                            c8  \\\n",
              "0  [77, 81, 107, 121, 179, 201, 211, 351, 460]   \n",
              "1                                           []   \n",
              "\n",
              "                                                  c9  \\\n",
              "0  [2, 21, 24, 59, 77, 107, 121, 145, 149, 151, 2...   \n",
              "1                                              [560]   \n",
              "\n",
              "                                                 c10  ...  \\\n",
              "0  [2, 8, 67, 70, 77, 150, 151, 175, 257, 317, 37...  ...   \n",
              "1                                                 []  ...   \n",
              "\n",
              "                                                 c21                   c22  \\\n",
              "0  [22, 81, 107, 163, 179, 211, 218, 235, 264, 27...  [218, 238, 258, 264]   \n",
              "1                                                 []                    []   \n",
              "\n",
              "                                                 c23  \\\n",
              "0  [81, 107, 179, 235, 264, 271, 338, 351, 367, 3...   \n",
              "1                                                 []   \n",
              "\n",
              "                                                 c24                 c25  \\\n",
              "0  [0, 17, 22, 23, 55, 81, 107, 121, 161, 163, 17...  [2, 202, 378, 504]   \n",
              "1                                                 []                  []   \n",
              "\n",
              "                                                 c26  \\\n",
              "0  [2, 8, 13, 14, 25, 32, 41, 71, 107, 180, 189, ...   \n",
              "1                                                 []   \n",
              "\n",
              "                                                 c27 c28  \\\n",
              "0  [8, 67, 107, 151, 189, 251, 378, 399, 429, 561...  []   \n",
              "1                                                 []  []   \n",
              "\n",
              "                                                 c29  \\\n",
              "0  [2, 7, 8, 21, 25, 30, 33, 34, 41, 67, 77, 118,...   \n",
              "1                                                 []   \n",
              "\n",
              "                                                 c30  \n",
              "0  [2, 4, 8, 13, 14, 25, 30, 71, 104, 117, 150, 1...  \n",
              "1                                                 []  \n",
              "\n",
              "[2 rows x 30 columns]"
            ]
          },
          "execution_count": 10,
          "metadata": {},
          "output_type": "execute_result"
        }
      ],
      "source": [
        "df = pd.DataFrame()\n",
        "for i in columnas[2:]:\n",
        "  Q1 = data[i].quantile(0.25)\n",
        "  Q3 = data[i].quantile(0.75)\n",
        "  IQR = Q3 - Q1\n",
        "  u_limit_h = Q3 + 1.55 * IQR\n",
        "  l_limit_h = Q1 - 1.55 * IQR\n",
        "  upper = np.where(data[i]>u_limit_h) # Atípicos ubicados encima del límite superior\n",
        "  lower = np.where(data[i]<l_limit_h) # Atípicos ubicados debajo del límite inferior\n",
        "  atp = upper + lower\n",
        "  df[i]=atp\n",
        "  \n",
        "'''\n",
        "Los índices en la fila 0 representan los índices de los atípicos ubicados encima del límite superior\n",
        "Los índices en la fila 1 representan los índices de los atípicos ubicados debajo del límite inferior\n",
        "'''\n",
        "df"
      ]
    },
    {
      "cell_type": "markdown",
      "metadata": {
        "id": "H36daEN7oBOZ"
      },
      "source": [
        "## Cuantificación de cuántos registros tienen atípicos"
      ]
    },
    {
      "cell_type": "code",
      "execution_count": null,
      "metadata": {
        "colab": {
          "base_uri": "https://localhost:8080/"
        },
        "id": "6tHOEFU0oGnA",
        "outputId": "80e6e054-d4f7-4bd2-9e16-8babe5c3dd50"
      },
      "outputs": [
        {
          "name": "stdout",
          "output_type": "stream",
          "text": [
            "Existen 168 registros con datos atípicos\n"
          ]
        }
      ],
      "source": [
        "df_registrosatp = pd.DataFrame()\n",
        "for i in columnas[2:]:\n",
        "  Q1 = data[i].quantile(0.25)\n",
        "  Q3 = data[i].quantile(0.75)\n",
        "  IQR = Q3 - Q1\n",
        "  u_limit_h = Q3 + 1.55 * IQR\n",
        "  l_limit_h = Q1 - 1.55 * IQR\n",
        "  atp = (data[i] < l_limit_h) | (data[i] > u_limit_h) # Registro con dato atípico\n",
        "  df_registrosatp = pd.concat([df_registrosatp,data[atp]],ignore_index=True) # Se guarda el registro\n",
        "  \n",
        "df_registrosatp=df_registrosatp.drop_duplicates() # Se eliminan registros repetidos\n",
        "print('Existen',df_registrosatp.shape[0],'registros con datos atípicos')"
      ]
    },
    {
      "cell_type": "markdown",
      "metadata": {
        "id": "w6DUibK7Ezmc"
      },
      "source": [
        "# 4. En caso que la cantidad de registros que se eliminarían supera el 40% del total del conjunto de datos, se procederá a eliminar únicamente el 20% de forma aleatoria de los atípicos"
      ]
    },
    {
      "cell_type": "code",
      "execution_count": null,
      "metadata": {
        "colab": {
          "base_uri": "https://localhost:8080/"
        },
        "id": "zyNtYYuBxO4i",
        "outputId": "1667b8a4-5b93-4762-8879-217ea0647bdb"
      },
      "outputs": [
        {
          "name": "stdout",
          "output_type": "stream",
          "text": [
            "La cantidad de registros equivalente al 40% es: 227.20000000000002 y la cantidad de registros con datos atípicos es: 168 representando el 29.577464788732392 %\n"
          ]
        }
      ],
      "source": [
        "resultado = data.shape[0] * 0.4\n",
        "porcentaje = df_registrosatp.shape[0] / data.shape[0] * 100\n",
        "print('La cantidad de registros equivalente al 40% es:',resultado,'y la cantidad de registros con datos atípicos es:',df_registrosatp.shape[0],'representando el',porcentaje,'%')"
      ]
    },
    {
      "cell_type": "markdown",
      "metadata": {
        "id": "A5o-J38KyqSr"
      },
      "source": [
        "## Con base en lo anterior, se pueden eliminar los registros con datos atípicos"
      ]
    },
    {
      "cell_type": "code",
      "execution_count": null,
      "metadata": {
        "colab": {
          "base_uri": "https://localhost:8080/",
          "height": 458
        },
        "id": "iTKvtgrFy8BN",
        "outputId": "99344dc8-efb9-4cad-beac-7d85813763b3"
      },
      "outputs": [
        {
          "name": "stdout",
          "output_type": "stream",
          "text": [
            "El nuevo dataframe deberá tener  400  registros\n",
            "La cantidad de registros en el nuevo dataframe es: 400\n"
          ]
        },
        {
          "data": {
            "text/html": [
              "\n",
              "  <div id=\"df-f2873a3a-a37a-49c7-9d5a-360e94f1c058\">\n",
              "    <div class=\"colab-df-container\">\n",
              "      <div>\n",
              "<style scoped>\n",
              "    .dataframe tbody tr th:only-of-type {\n",
              "        vertical-align: middle;\n",
              "    }\n",
              "\n",
              "    .dataframe tbody tr th {\n",
              "        vertical-align: top;\n",
              "    }\n",
              "\n",
              "    .dataframe thead th {\n",
              "        text-align: right;\n",
              "    }\n",
              "</style>\n",
              "<table border=\"1\" class=\"dataframe\">\n",
              "  <thead>\n",
              "    <tr style=\"text-align: right;\">\n",
              "      <th></th>\n",
              "      <th>resultado</th>\n",
              "      <th>c1</th>\n",
              "      <th>c2</th>\n",
              "      <th>c3</th>\n",
              "      <th>c4</th>\n",
              "      <th>c5</th>\n",
              "      <th>c6</th>\n",
              "      <th>c7</th>\n",
              "      <th>c8</th>\n",
              "      <th>c9</th>\n",
              "      <th>...</th>\n",
              "      <th>c21</th>\n",
              "      <th>c22</th>\n",
              "      <th>c23</th>\n",
              "      <th>c24</th>\n",
              "      <th>c25</th>\n",
              "      <th>c26</th>\n",
              "      <th>c27</th>\n",
              "      <th>c28</th>\n",
              "      <th>c29</th>\n",
              "      <th>c30</th>\n",
              "    </tr>\n",
              "  </thead>\n",
              "  <tbody>\n",
              "    <tr>\n",
              "      <th>5</th>\n",
              "      <td>1</td>\n",
              "      <td>18.25</td>\n",
              "      <td>19.98</td>\n",
              "      <td>119.60</td>\n",
              "      <td>1040.0</td>\n",
              "      <td>0.09463</td>\n",
              "      <td>0.10900</td>\n",
              "      <td>0.11270</td>\n",
              "      <td>0.07400</td>\n",
              "      <td>0.1794</td>\n",
              "      <td>...</td>\n",
              "      <td>22.88</td>\n",
              "      <td>27.66</td>\n",
              "      <td>153.20</td>\n",
              "      <td>1606.0</td>\n",
              "      <td>0.1442</td>\n",
              "      <td>0.2576</td>\n",
              "      <td>0.3784</td>\n",
              "      <td>0.19320</td>\n",
              "      <td>0.3063</td>\n",
              "      <td>0.08368</td>\n",
              "    </tr>\n",
              "    <tr>\n",
              "      <th>6</th>\n",
              "      <td>1</td>\n",
              "      <td>13.71</td>\n",
              "      <td>20.83</td>\n",
              "      <td>90.20</td>\n",
              "      <td>577.9</td>\n",
              "      <td>0.11890</td>\n",
              "      <td>0.16450</td>\n",
              "      <td>0.09366</td>\n",
              "      <td>0.05985</td>\n",
              "      <td>0.2196</td>\n",
              "      <td>...</td>\n",
              "      <td>17.06</td>\n",
              "      <td>28.14</td>\n",
              "      <td>110.60</td>\n",
              "      <td>897.0</td>\n",
              "      <td>0.1654</td>\n",
              "      <td>0.3682</td>\n",
              "      <td>0.2678</td>\n",
              "      <td>0.15560</td>\n",
              "      <td>0.3196</td>\n",
              "      <td>0.11510</td>\n",
              "    </tr>\n",
              "    <tr>\n",
              "      <th>9</th>\n",
              "      <td>1</td>\n",
              "      <td>16.02</td>\n",
              "      <td>23.24</td>\n",
              "      <td>102.70</td>\n",
              "      <td>797.8</td>\n",
              "      <td>0.08206</td>\n",
              "      <td>0.06669</td>\n",
              "      <td>0.03299</td>\n",
              "      <td>0.03323</td>\n",
              "      <td>0.1528</td>\n",
              "      <td>...</td>\n",
              "      <td>19.19</td>\n",
              "      <td>33.88</td>\n",
              "      <td>123.80</td>\n",
              "      <td>1150.0</td>\n",
              "      <td>0.1181</td>\n",
              "      <td>0.1551</td>\n",
              "      <td>0.1459</td>\n",
              "      <td>0.09975</td>\n",
              "      <td>0.2948</td>\n",
              "      <td>0.08452</td>\n",
              "    </tr>\n",
              "    <tr>\n",
              "      <th>10</th>\n",
              "      <td>1</td>\n",
              "      <td>15.78</td>\n",
              "      <td>17.89</td>\n",
              "      <td>103.60</td>\n",
              "      <td>781.0</td>\n",
              "      <td>0.09710</td>\n",
              "      <td>0.12920</td>\n",
              "      <td>0.09954</td>\n",
              "      <td>0.06606</td>\n",
              "      <td>0.1842</td>\n",
              "      <td>...</td>\n",
              "      <td>20.42</td>\n",
              "      <td>27.28</td>\n",
              "      <td>136.50</td>\n",
              "      <td>1299.0</td>\n",
              "      <td>0.1396</td>\n",
              "      <td>0.5609</td>\n",
              "      <td>0.3965</td>\n",
              "      <td>0.18100</td>\n",
              "      <td>0.3792</td>\n",
              "      <td>0.10480</td>\n",
              "    </tr>\n",
              "    <tr>\n",
              "      <th>12</th>\n",
              "      <td>1</td>\n",
              "      <td>15.85</td>\n",
              "      <td>23.95</td>\n",
              "      <td>103.70</td>\n",
              "      <td>782.7</td>\n",
              "      <td>0.08401</td>\n",
              "      <td>0.10020</td>\n",
              "      <td>0.09938</td>\n",
              "      <td>0.05364</td>\n",
              "      <td>0.1847</td>\n",
              "      <td>...</td>\n",
              "      <td>16.84</td>\n",
              "      <td>27.66</td>\n",
              "      <td>112.00</td>\n",
              "      <td>876.5</td>\n",
              "      <td>0.1131</td>\n",
              "      <td>0.1924</td>\n",
              "      <td>0.2322</td>\n",
              "      <td>0.11190</td>\n",
              "      <td>0.2809</td>\n",
              "      <td>0.06287</td>\n",
              "    </tr>\n",
              "    <tr>\n",
              "      <th>...</th>\n",
              "      <td>...</td>\n",
              "      <td>...</td>\n",
              "      <td>...</td>\n",
              "      <td>...</td>\n",
              "      <td>...</td>\n",
              "      <td>...</td>\n",
              "      <td>...</td>\n",
              "      <td>...</td>\n",
              "      <td>...</td>\n",
              "      <td>...</td>\n",
              "      <td>...</td>\n",
              "      <td>...</td>\n",
              "      <td>...</td>\n",
              "      <td>...</td>\n",
              "      <td>...</td>\n",
              "      <td>...</td>\n",
              "      <td>...</td>\n",
              "      <td>...</td>\n",
              "      <td>...</td>\n",
              "      <td>...</td>\n",
              "      <td>...</td>\n",
              "    </tr>\n",
              "    <tr>\n",
              "      <th>553</th>\n",
              "      <td>0</td>\n",
              "      <td>12.88</td>\n",
              "      <td>28.92</td>\n",
              "      <td>82.50</td>\n",
              "      <td>514.3</td>\n",
              "      <td>0.08123</td>\n",
              "      <td>0.05824</td>\n",
              "      <td>0.06195</td>\n",
              "      <td>0.02343</td>\n",
              "      <td>0.1566</td>\n",
              "      <td>...</td>\n",
              "      <td>13.89</td>\n",
              "      <td>35.74</td>\n",
              "      <td>88.84</td>\n",
              "      <td>595.7</td>\n",
              "      <td>0.1227</td>\n",
              "      <td>0.1620</td>\n",
              "      <td>0.2439</td>\n",
              "      <td>0.06493</td>\n",
              "      <td>0.2372</td>\n",
              "      <td>0.07242</td>\n",
              "    </tr>\n",
              "    <tr>\n",
              "      <th>554</th>\n",
              "      <td>0</td>\n",
              "      <td>10.29</td>\n",
              "      <td>27.61</td>\n",
              "      <td>65.67</td>\n",
              "      <td>321.4</td>\n",
              "      <td>0.09030</td>\n",
              "      <td>0.07658</td>\n",
              "      <td>0.05999</td>\n",
              "      <td>0.02738</td>\n",
              "      <td>0.1593</td>\n",
              "      <td>...</td>\n",
              "      <td>10.84</td>\n",
              "      <td>34.91</td>\n",
              "      <td>69.57</td>\n",
              "      <td>357.6</td>\n",
              "      <td>0.1384</td>\n",
              "      <td>0.1710</td>\n",
              "      <td>0.2000</td>\n",
              "      <td>0.09127</td>\n",
              "      <td>0.2226</td>\n",
              "      <td>0.08283</td>\n",
              "    </tr>\n",
              "    <tr>\n",
              "      <th>557</th>\n",
              "      <td>0</td>\n",
              "      <td>14.59</td>\n",
              "      <td>22.68</td>\n",
              "      <td>96.39</td>\n",
              "      <td>657.1</td>\n",
              "      <td>0.08473</td>\n",
              "      <td>0.13300</td>\n",
              "      <td>0.10290</td>\n",
              "      <td>0.03736</td>\n",
              "      <td>0.1454</td>\n",
              "      <td>...</td>\n",
              "      <td>15.48</td>\n",
              "      <td>27.27</td>\n",
              "      <td>105.90</td>\n",
              "      <td>733.5</td>\n",
              "      <td>0.1026</td>\n",
              "      <td>0.3171</td>\n",
              "      <td>0.3662</td>\n",
              "      <td>0.11050</td>\n",
              "      <td>0.2258</td>\n",
              "      <td>0.08004</td>\n",
              "    </tr>\n",
              "    <tr>\n",
              "      <th>559</th>\n",
              "      <td>0</td>\n",
              "      <td>14.05</td>\n",
              "      <td>27.15</td>\n",
              "      <td>91.38</td>\n",
              "      <td>600.4</td>\n",
              "      <td>0.09929</td>\n",
              "      <td>0.11260</td>\n",
              "      <td>0.04462</td>\n",
              "      <td>0.04304</td>\n",
              "      <td>0.1537</td>\n",
              "      <td>...</td>\n",
              "      <td>15.30</td>\n",
              "      <td>33.17</td>\n",
              "      <td>100.20</td>\n",
              "      <td>706.7</td>\n",
              "      <td>0.1241</td>\n",
              "      <td>0.2264</td>\n",
              "      <td>0.1326</td>\n",
              "      <td>0.10480</td>\n",
              "      <td>0.2250</td>\n",
              "      <td>0.08321</td>\n",
              "    </tr>\n",
              "    <tr>\n",
              "      <th>565</th>\n",
              "      <td>1</td>\n",
              "      <td>16.60</td>\n",
              "      <td>28.08</td>\n",
              "      <td>108.30</td>\n",
              "      <td>858.1</td>\n",
              "      <td>0.08455</td>\n",
              "      <td>0.10230</td>\n",
              "      <td>0.09251</td>\n",
              "      <td>0.05302</td>\n",
              "      <td>0.1590</td>\n",
              "      <td>...</td>\n",
              "      <td>18.98</td>\n",
              "      <td>34.12</td>\n",
              "      <td>126.70</td>\n",
              "      <td>1124.0</td>\n",
              "      <td>0.1139</td>\n",
              "      <td>0.3094</td>\n",
              "      <td>0.3403</td>\n",
              "      <td>0.14180</td>\n",
              "      <td>0.2218</td>\n",
              "      <td>0.07820</td>\n",
              "    </tr>\n",
              "  </tbody>\n",
              "</table>\n",
              "<p>400 rows × 31 columns</p>\n",
              "</div>\n",
              "      <button class=\"colab-df-convert\" onclick=\"convertToInteractive('df-f2873a3a-a37a-49c7-9d5a-360e94f1c058')\"\n",
              "              title=\"Convert this dataframe to an interactive table.\"\n",
              "              style=\"display:none;\">\n",
              "        \n",
              "  <svg xmlns=\"http://www.w3.org/2000/svg\" height=\"24px\"viewBox=\"0 0 24 24\"\n",
              "       width=\"24px\">\n",
              "    <path d=\"M0 0h24v24H0V0z\" fill=\"none\"/>\n",
              "    <path d=\"M18.56 5.44l.94 2.06.94-2.06 2.06-.94-2.06-.94-.94-2.06-.94 2.06-2.06.94zm-11 1L8.5 8.5l.94-2.06 2.06-.94-2.06-.94L8.5 2.5l-.94 2.06-2.06.94zm10 10l.94 2.06.94-2.06 2.06-.94-2.06-.94-.94-2.06-.94 2.06-2.06.94z\"/><path d=\"M17.41 7.96l-1.37-1.37c-.4-.4-.92-.59-1.43-.59-.52 0-1.04.2-1.43.59L10.3 9.45l-7.72 7.72c-.78.78-.78 2.05 0 2.83L4 21.41c.39.39.9.59 1.41.59.51 0 1.02-.2 1.41-.59l7.78-7.78 2.81-2.81c.8-.78.8-2.07 0-2.86zM5.41 20L4 18.59l7.72-7.72 1.47 1.35L5.41 20z\"/>\n",
              "  </svg>\n",
              "      </button>\n",
              "      \n",
              "  <style>\n",
              "    .colab-df-container {\n",
              "      display:flex;\n",
              "      flex-wrap:wrap;\n",
              "      gap: 12px;\n",
              "    }\n",
              "\n",
              "    .colab-df-convert {\n",
              "      background-color: #E8F0FE;\n",
              "      border: none;\n",
              "      border-radius: 50%;\n",
              "      cursor: pointer;\n",
              "      display: none;\n",
              "      fill: #1967D2;\n",
              "      height: 32px;\n",
              "      padding: 0 0 0 0;\n",
              "      width: 32px;\n",
              "    }\n",
              "\n",
              "    .colab-df-convert:hover {\n",
              "      background-color: #E2EBFA;\n",
              "      box-shadow: 0px 1px 2px rgba(60, 64, 67, 0.3), 0px 1px 3px 1px rgba(60, 64, 67, 0.15);\n",
              "      fill: #174EA6;\n",
              "    }\n",
              "\n",
              "    [theme=dark] .colab-df-convert {\n",
              "      background-color: #3B4455;\n",
              "      fill: #D2E3FC;\n",
              "    }\n",
              "\n",
              "    [theme=dark] .colab-df-convert:hover {\n",
              "      background-color: #434B5C;\n",
              "      box-shadow: 0px 1px 3px 1px rgba(0, 0, 0, 0.15);\n",
              "      filter: drop-shadow(0px 1px 2px rgba(0, 0, 0, 0.3));\n",
              "      fill: #FFFFFF;\n",
              "    }\n",
              "  </style>\n",
              "\n",
              "      <script>\n",
              "        const buttonEl =\n",
              "          document.querySelector('#df-f2873a3a-a37a-49c7-9d5a-360e94f1c058 button.colab-df-convert');\n",
              "        buttonEl.style.display =\n",
              "          google.colab.kernel.accessAllowed ? 'block' : 'none';\n",
              "\n",
              "        async function convertToInteractive(key) {\n",
              "          const element = document.querySelector('#df-f2873a3a-a37a-49c7-9d5a-360e94f1c058');\n",
              "          const dataTable =\n",
              "            await google.colab.kernel.invokeFunction('convertToInteractive',\n",
              "                                                     [key], {});\n",
              "          if (!dataTable) return;\n",
              "\n",
              "          const docLinkHtml = 'Like what you see? Visit the ' +\n",
              "            '<a target=\"_blank\" href=https://colab.research.google.com/notebooks/data_table.ipynb>data table notebook</a>'\n",
              "            + ' to learn more about interactive tables.';\n",
              "          element.innerHTML = '';\n",
              "          dataTable['output_type'] = 'display_data';\n",
              "          await google.colab.output.renderOutput(dataTable, element);\n",
              "          const docLink = document.createElement('div');\n",
              "          docLink.innerHTML = docLinkHtml;\n",
              "          element.appendChild(docLink);\n",
              "        }\n",
              "      </script>\n",
              "    </div>\n",
              "  </div>\n",
              "  "
            ],
            "text/plain": [
              "     resultado     c1     c2      c3      c4       c5       c6       c7  \\\n",
              "5            1  18.25  19.98  119.60  1040.0  0.09463  0.10900  0.11270   \n",
              "6            1  13.71  20.83   90.20   577.9  0.11890  0.16450  0.09366   \n",
              "9            1  16.02  23.24  102.70   797.8  0.08206  0.06669  0.03299   \n",
              "10           1  15.78  17.89  103.60   781.0  0.09710  0.12920  0.09954   \n",
              "12           1  15.85  23.95  103.70   782.7  0.08401  0.10020  0.09938   \n",
              "..         ...    ...    ...     ...     ...      ...      ...      ...   \n",
              "553          0  12.88  28.92   82.50   514.3  0.08123  0.05824  0.06195   \n",
              "554          0  10.29  27.61   65.67   321.4  0.09030  0.07658  0.05999   \n",
              "557          0  14.59  22.68   96.39   657.1  0.08473  0.13300  0.10290   \n",
              "559          0  14.05  27.15   91.38   600.4  0.09929  0.11260  0.04462   \n",
              "565          1  16.60  28.08  108.30   858.1  0.08455  0.10230  0.09251   \n",
              "\n",
              "          c8      c9  ...    c21    c22     c23     c24     c25     c26  \\\n",
              "5    0.07400  0.1794  ...  22.88  27.66  153.20  1606.0  0.1442  0.2576   \n",
              "6    0.05985  0.2196  ...  17.06  28.14  110.60   897.0  0.1654  0.3682   \n",
              "9    0.03323  0.1528  ...  19.19  33.88  123.80  1150.0  0.1181  0.1551   \n",
              "10   0.06606  0.1842  ...  20.42  27.28  136.50  1299.0  0.1396  0.5609   \n",
              "12   0.05364  0.1847  ...  16.84  27.66  112.00   876.5  0.1131  0.1924   \n",
              "..       ...     ...  ...    ...    ...     ...     ...     ...     ...   \n",
              "553  0.02343  0.1566  ...  13.89  35.74   88.84   595.7  0.1227  0.1620   \n",
              "554  0.02738  0.1593  ...  10.84  34.91   69.57   357.6  0.1384  0.1710   \n",
              "557  0.03736  0.1454  ...  15.48  27.27  105.90   733.5  0.1026  0.3171   \n",
              "559  0.04304  0.1537  ...  15.30  33.17  100.20   706.7  0.1241  0.2264   \n",
              "565  0.05302  0.1590  ...  18.98  34.12  126.70  1124.0  0.1139  0.3094   \n",
              "\n",
              "        c27      c28     c29      c30  \n",
              "5    0.3784  0.19320  0.3063  0.08368  \n",
              "6    0.2678  0.15560  0.3196  0.11510  \n",
              "9    0.1459  0.09975  0.2948  0.08452  \n",
              "10   0.3965  0.18100  0.3792  0.10480  \n",
              "12   0.2322  0.11190  0.2809  0.06287  \n",
              "..      ...      ...     ...      ...  \n",
              "553  0.2439  0.06493  0.2372  0.07242  \n",
              "554  0.2000  0.09127  0.2226  0.08283  \n",
              "557  0.3662  0.11050  0.2258  0.08004  \n",
              "559  0.1326  0.10480  0.2250  0.08321  \n",
              "565  0.3403  0.14180  0.2218  0.07820  \n",
              "\n",
              "[400 rows x 31 columns]"
            ]
          },
          "execution_count": 13,
          "metadata": {},
          "output_type": "execute_result"
        }
      ],
      "source": [
        "print('El nuevo dataframe deberá tener ',data.shape[0]-df_registrosatp.shape[0],' registros')\n",
        "new_data = data\n",
        "for i in columnas[2:]:\n",
        "  Q1 = data[i].quantile(0.25)\n",
        "  Q3 = data[i].quantile(0.75)\n",
        "  IQR = Q3 - Q1\n",
        "  u_limit_h = Q3 + 1.55 * IQR\n",
        "  l_limit_h = Q1 - 1.55 * IQR\n",
        "  atp = new_data[(new_data[i] < l_limit_h) | (new_data[i] > u_limit_h)].index\n",
        "  new_data = new_data.drop(atp) # Nuevo data set sin los datos atípicos\n",
        "\n",
        "print('La cantidad de registros en el nuevo dataframe es:',new_data.shape[0])\n",
        "new_data"
      ]
    },
    {
      "cell_type": "markdown",
      "metadata": {
        "id": "rdHPtuRNFBOU"
      },
      "source": [
        "# 5. El modelo debe ser validado por una validación cruzada con K=10. Dicho proceso debe ser programado de manera manual, es decir NO SE PERMITE LAS LIBRERÍAS EXTERNAS. NOTA: DEBEN GARANTIZAR LA HOMOGENEIDAD DE  LOS DATOS AL MOMENTO DE ENTRENAR EL MODELO."
      ]
    },
    {
      "cell_type": "markdown",
      "metadata": {
        "id": "r-jZUMylSYCe"
      },
      "source": [
        "## Separamos los registros según la variable objetivo (Benigno y Maligno)"
      ]
    },
    {
      "cell_type": "markdown",
      "metadata": {
        "id": "nT0uCxfdAvg0"
      },
      "source": [
        "### Cantidad de registros benignos y malignos"
      ]
    },
    {
      "cell_type": "code",
      "execution_count": null,
      "metadata": {
        "colab": {
          "base_uri": "https://localhost:8080/"
        },
        "id": "rgP3xN1VSDEO",
        "outputId": "60d42cf0-c816-4e7d-b2ca-ff1089725be8"
      },
      "outputs": [
        {
          "data": {
            "text/plain": [
              "0    301\n",
              "1     99\n",
              "Name: resultado, dtype: int64"
            ]
          },
          "execution_count": 14,
          "metadata": {},
          "output_type": "execute_result"
        }
      ],
      "source": [
        "new_data['resultado'].value_counts()"
      ]
    },
    {
      "cell_type": "markdown",
      "metadata": {
        "id": "n5n1F4iPSdj1"
      },
      "source": [
        "### Guardamos los registros con variable objetivo benigno y maligno en 'data_benigno' y 'data_maligno' respectivamente"
      ]
    },
    {
      "cell_type": "code",
      "execution_count": null,
      "metadata": {
        "colab": {
          "base_uri": "https://localhost:8080/"
        },
        "id": "jDZVAo1tAvK8",
        "outputId": "35e6b77c-2673-4439-9bb2-307306d7b6ef"
      },
      "outputs": [
        {
          "name": "stdout",
          "output_type": "stream",
          "text": [
            "301\n",
            "99\n"
          ]
        }
      ],
      "source": [
        "grupos = new_data.groupby('resultado')\n",
        "data_benigno=grupos.get_group(0)\n",
        "data_maligno=grupos.get_group(1)\n",
        "print(data_benigno.shape[0])\n",
        "print(data_maligno.shape[0])"
      ]
    },
    {
      "cell_type": "markdown",
      "metadata": {
        "id": "DC6bzf4vS1zN"
      },
      "source": [
        "### Calculamos la cantidad de registros que van a haber en cada k grupo"
      ]
    },
    {
      "cell_type": "code",
      "execution_count": null,
      "metadata": {
        "colab": {
          "base_uri": "https://localhost:8080/"
        },
        "id": "FdMb9deHQCsF",
        "outputId": "83407fd7-e60b-4783-bdd1-5e94adbe8d75"
      },
      "outputs": [
        {
          "name": "stdout",
          "output_type": "stream",
          "text": [
            "Van a haber 40.0 registros por grupo\n"
          ]
        }
      ],
      "source": [
        "print('Van a haber',new_data.shape[0]/10,'registros por grupo')"
      ]
    },
    {
      "cell_type": "markdown",
      "metadata": {
        "id": "hyGcYWNOP_eO"
      },
      "source": [
        "## Creación de un dataframe con registros benignos y malignos garantizando homogeneidad"
      ]
    },
    {
      "cell_type": "code",
      "execution_count": null,
      "metadata": {
        "colab": {
          "base_uri": "https://localhost:8080/",
          "height": 563
        },
        "id": "NYMKPe7siSvU",
        "outputId": "2174c2ff-daa4-483e-8ac3-a49558cc131d"
      },
      "outputs": [
        {
          "name": "stderr",
          "output_type": "stream",
          "text": [
            "<ipython-input-17-83e2af5314cf>:4: FutureWarning: The frame.append method is deprecated and will be removed from pandas in a future version. Use pandas.concat instead.\n",
            "  data_cruzada = data_cruzada.append(data_benigno[i*8:i*8+8],ignore_index=True)\n",
            "<ipython-input-17-83e2af5314cf>:5: FutureWarning: The frame.append method is deprecated and will be removed from pandas in a future version. Use pandas.concat instead.\n",
            "  data_cruzada = data_cruzada.append(data_maligno[i*2:i*2+2],ignore_index=True)\n",
            "<ipython-input-17-83e2af5314cf>:8: FutureWarning: The frame.append method is deprecated and will be removed from pandas in a future version. Use pandas.concat instead.\n",
            "  data_cruzada = data_cruzada.append(data_benigno[312:])\n",
            "<ipython-input-17-83e2af5314cf>:9: FutureWarning: The frame.append method is deprecated and will be removed from pandas in a future version. Use pandas.concat instead.\n",
            "  data_cruzada = data_cruzada.append(data_maligno[78:])\n"
          ]
        },
        {
          "data": {
            "text/html": [
              "\n",
              "  <div id=\"df-af1c2617-710b-4cb6-b260-18ea6c0912d7\">\n",
              "    <div class=\"colab-df-container\">\n",
              "      <div>\n",
              "<style scoped>\n",
              "    .dataframe tbody tr th:only-of-type {\n",
              "        vertical-align: middle;\n",
              "    }\n",
              "\n",
              "    .dataframe tbody tr th {\n",
              "        vertical-align: top;\n",
              "    }\n",
              "\n",
              "    .dataframe thead th {\n",
              "        text-align: right;\n",
              "    }\n",
              "</style>\n",
              "<table border=\"1\" class=\"dataframe\">\n",
              "  <thead>\n",
              "    <tr style=\"text-align: right;\">\n",
              "      <th></th>\n",
              "      <th>resultado</th>\n",
              "      <th>c1</th>\n",
              "      <th>c2</th>\n",
              "      <th>c3</th>\n",
              "      <th>c4</th>\n",
              "      <th>c5</th>\n",
              "      <th>c6</th>\n",
              "      <th>c7</th>\n",
              "      <th>c8</th>\n",
              "      <th>c9</th>\n",
              "      <th>...</th>\n",
              "      <th>c21</th>\n",
              "      <th>c22</th>\n",
              "      <th>c23</th>\n",
              "      <th>c24</th>\n",
              "      <th>c25</th>\n",
              "      <th>c26</th>\n",
              "      <th>c27</th>\n",
              "      <th>c28</th>\n",
              "      <th>c29</th>\n",
              "      <th>c30</th>\n",
              "    </tr>\n",
              "  </thead>\n",
              "  <tbody>\n",
              "    <tr>\n",
              "      <th>0</th>\n",
              "      <td>0</td>\n",
              "      <td>13.540</td>\n",
              "      <td>14.36</td>\n",
              "      <td>87.46</td>\n",
              "      <td>566.3</td>\n",
              "      <td>0.09779</td>\n",
              "      <td>0.08129</td>\n",
              "      <td>0.06664</td>\n",
              "      <td>0.047810</td>\n",
              "      <td>0.1885</td>\n",
              "      <td>...</td>\n",
              "      <td>15.110</td>\n",
              "      <td>19.26</td>\n",
              "      <td>99.70</td>\n",
              "      <td>711.2</td>\n",
              "      <td>0.14400</td>\n",
              "      <td>0.17730</td>\n",
              "      <td>0.23900</td>\n",
              "      <td>0.12880</td>\n",
              "      <td>0.2977</td>\n",
              "      <td>0.07259</td>\n",
              "    </tr>\n",
              "    <tr>\n",
              "      <th>1</th>\n",
              "      <td>0</td>\n",
              "      <td>13.080</td>\n",
              "      <td>15.71</td>\n",
              "      <td>85.63</td>\n",
              "      <td>520.0</td>\n",
              "      <td>0.10750</td>\n",
              "      <td>0.12700</td>\n",
              "      <td>0.04568</td>\n",
              "      <td>0.031100</td>\n",
              "      <td>0.1967</td>\n",
              "      <td>...</td>\n",
              "      <td>14.500</td>\n",
              "      <td>20.49</td>\n",
              "      <td>96.09</td>\n",
              "      <td>630.5</td>\n",
              "      <td>0.13120</td>\n",
              "      <td>0.27760</td>\n",
              "      <td>0.18900</td>\n",
              "      <td>0.07283</td>\n",
              "      <td>0.3184</td>\n",
              "      <td>0.08183</td>\n",
              "    </tr>\n",
              "    <tr>\n",
              "      <th>2</th>\n",
              "      <td>0</td>\n",
              "      <td>9.504</td>\n",
              "      <td>12.44</td>\n",
              "      <td>60.34</td>\n",
              "      <td>273.9</td>\n",
              "      <td>0.10240</td>\n",
              "      <td>0.06492</td>\n",
              "      <td>0.02956</td>\n",
              "      <td>0.020760</td>\n",
              "      <td>0.1815</td>\n",
              "      <td>...</td>\n",
              "      <td>10.230</td>\n",
              "      <td>15.66</td>\n",
              "      <td>65.13</td>\n",
              "      <td>314.9</td>\n",
              "      <td>0.13240</td>\n",
              "      <td>0.11480</td>\n",
              "      <td>0.08867</td>\n",
              "      <td>0.06227</td>\n",
              "      <td>0.2450</td>\n",
              "      <td>0.07773</td>\n",
              "    </tr>\n",
              "    <tr>\n",
              "      <th>3</th>\n",
              "      <td>0</td>\n",
              "      <td>13.030</td>\n",
              "      <td>18.42</td>\n",
              "      <td>82.61</td>\n",
              "      <td>523.8</td>\n",
              "      <td>0.08983</td>\n",
              "      <td>0.03766</td>\n",
              "      <td>0.02562</td>\n",
              "      <td>0.029230</td>\n",
              "      <td>0.1467</td>\n",
              "      <td>...</td>\n",
              "      <td>13.300</td>\n",
              "      <td>22.81</td>\n",
              "      <td>84.46</td>\n",
              "      <td>545.9</td>\n",
              "      <td>0.09701</td>\n",
              "      <td>0.04619</td>\n",
              "      <td>0.04833</td>\n",
              "      <td>0.05013</td>\n",
              "      <td>0.1987</td>\n",
              "      <td>0.06169</td>\n",
              "    </tr>\n",
              "    <tr>\n",
              "      <th>4</th>\n",
              "      <td>0</td>\n",
              "      <td>8.196</td>\n",
              "      <td>16.84</td>\n",
              "      <td>51.71</td>\n",
              "      <td>201.9</td>\n",
              "      <td>0.08600</td>\n",
              "      <td>0.05943</td>\n",
              "      <td>0.01588</td>\n",
              "      <td>0.005917</td>\n",
              "      <td>0.1769</td>\n",
              "      <td>...</td>\n",
              "      <td>8.964</td>\n",
              "      <td>21.96</td>\n",
              "      <td>57.26</td>\n",
              "      <td>242.2</td>\n",
              "      <td>0.12970</td>\n",
              "      <td>0.13570</td>\n",
              "      <td>0.06880</td>\n",
              "      <td>0.02564</td>\n",
              "      <td>0.3105</td>\n",
              "      <td>0.07409</td>\n",
              "    </tr>\n",
              "    <tr>\n",
              "      <th>...</th>\n",
              "      <td>...</td>\n",
              "      <td>...</td>\n",
              "      <td>...</td>\n",
              "      <td>...</td>\n",
              "      <td>...</td>\n",
              "      <td>...</td>\n",
              "      <td>...</td>\n",
              "      <td>...</td>\n",
              "      <td>...</td>\n",
              "      <td>...</td>\n",
              "      <td>...</td>\n",
              "      <td>...</td>\n",
              "      <td>...</td>\n",
              "      <td>...</td>\n",
              "      <td>...</td>\n",
              "      <td>...</td>\n",
              "      <td>...</td>\n",
              "      <td>...</td>\n",
              "      <td>...</td>\n",
              "      <td>...</td>\n",
              "      <td>...</td>\n",
              "    </tr>\n",
              "    <tr>\n",
              "      <th>513</th>\n",
              "      <td>1</td>\n",
              "      <td>15.050</td>\n",
              "      <td>19.07</td>\n",
              "      <td>97.26</td>\n",
              "      <td>701.9</td>\n",
              "      <td>0.09215</td>\n",
              "      <td>0.08597</td>\n",
              "      <td>0.07486</td>\n",
              "      <td>0.043350</td>\n",
              "      <td>0.1561</td>\n",
              "      <td>...</td>\n",
              "      <td>17.580</td>\n",
              "      <td>28.06</td>\n",
              "      <td>113.80</td>\n",
              "      <td>967.0</td>\n",
              "      <td>0.12460</td>\n",
              "      <td>0.21010</td>\n",
              "      <td>0.28660</td>\n",
              "      <td>0.11200</td>\n",
              "      <td>0.2282</td>\n",
              "      <td>0.06954</td>\n",
              "    </tr>\n",
              "    <tr>\n",
              "      <th>515</th>\n",
              "      <td>1</td>\n",
              "      <td>18.310</td>\n",
              "      <td>20.58</td>\n",
              "      <td>120.80</td>\n",
              "      <td>1052.0</td>\n",
              "      <td>0.10680</td>\n",
              "      <td>0.12480</td>\n",
              "      <td>0.15690</td>\n",
              "      <td>0.094510</td>\n",
              "      <td>0.1860</td>\n",
              "      <td>...</td>\n",
              "      <td>21.860</td>\n",
              "      <td>26.20</td>\n",
              "      <td>142.20</td>\n",
              "      <td>1493.0</td>\n",
              "      <td>0.14920</td>\n",
              "      <td>0.25360</td>\n",
              "      <td>0.37590</td>\n",
              "      <td>0.15100</td>\n",
              "      <td>0.3074</td>\n",
              "      <td>0.07863</td>\n",
              "    </tr>\n",
              "    <tr>\n",
              "      <th>516</th>\n",
              "      <td>1</td>\n",
              "      <td>19.890</td>\n",
              "      <td>20.26</td>\n",
              "      <td>130.50</td>\n",
              "      <td>1214.0</td>\n",
              "      <td>0.10370</td>\n",
              "      <td>0.13100</td>\n",
              "      <td>0.14110</td>\n",
              "      <td>0.094310</td>\n",
              "      <td>0.1802</td>\n",
              "      <td>...</td>\n",
              "      <td>23.730</td>\n",
              "      <td>25.23</td>\n",
              "      <td>160.50</td>\n",
              "      <td>1646.0</td>\n",
              "      <td>0.14170</td>\n",
              "      <td>0.33090</td>\n",
              "      <td>0.41850</td>\n",
              "      <td>0.16130</td>\n",
              "      <td>0.2549</td>\n",
              "      <td>0.09136</td>\n",
              "    </tr>\n",
              "    <tr>\n",
              "      <th>535</th>\n",
              "      <td>1</td>\n",
              "      <td>14.270</td>\n",
              "      <td>22.55</td>\n",
              "      <td>93.77</td>\n",
              "      <td>629.8</td>\n",
              "      <td>0.10380</td>\n",
              "      <td>0.11540</td>\n",
              "      <td>0.14630</td>\n",
              "      <td>0.061390</td>\n",
              "      <td>0.1926</td>\n",
              "      <td>...</td>\n",
              "      <td>15.290</td>\n",
              "      <td>34.27</td>\n",
              "      <td>104.30</td>\n",
              "      <td>728.3</td>\n",
              "      <td>0.13800</td>\n",
              "      <td>0.27330</td>\n",
              "      <td>0.42340</td>\n",
              "      <td>0.13620</td>\n",
              "      <td>0.2698</td>\n",
              "      <td>0.08351</td>\n",
              "    </tr>\n",
              "    <tr>\n",
              "      <th>565</th>\n",
              "      <td>1</td>\n",
              "      <td>16.600</td>\n",
              "      <td>28.08</td>\n",
              "      <td>108.30</td>\n",
              "      <td>858.1</td>\n",
              "      <td>0.08455</td>\n",
              "      <td>0.10230</td>\n",
              "      <td>0.09251</td>\n",
              "      <td>0.053020</td>\n",
              "      <td>0.1590</td>\n",
              "      <td>...</td>\n",
              "      <td>18.980</td>\n",
              "      <td>34.12</td>\n",
              "      <td>126.70</td>\n",
              "      <td>1124.0</td>\n",
              "      <td>0.11390</td>\n",
              "      <td>0.30940</td>\n",
              "      <td>0.34030</td>\n",
              "      <td>0.14180</td>\n",
              "      <td>0.2218</td>\n",
              "      <td>0.07820</td>\n",
              "    </tr>\n",
              "  </tbody>\n",
              "</table>\n",
              "<p>400 rows × 31 columns</p>\n",
              "</div>\n",
              "      <button class=\"colab-df-convert\" onclick=\"convertToInteractive('df-af1c2617-710b-4cb6-b260-18ea6c0912d7')\"\n",
              "              title=\"Convert this dataframe to an interactive table.\"\n",
              "              style=\"display:none;\">\n",
              "        \n",
              "  <svg xmlns=\"http://www.w3.org/2000/svg\" height=\"24px\"viewBox=\"0 0 24 24\"\n",
              "       width=\"24px\">\n",
              "    <path d=\"M0 0h24v24H0V0z\" fill=\"none\"/>\n",
              "    <path d=\"M18.56 5.44l.94 2.06.94-2.06 2.06-.94-2.06-.94-.94-2.06-.94 2.06-2.06.94zm-11 1L8.5 8.5l.94-2.06 2.06-.94-2.06-.94L8.5 2.5l-.94 2.06-2.06.94zm10 10l.94 2.06.94-2.06 2.06-.94-2.06-.94-.94-2.06-.94 2.06-2.06.94z\"/><path d=\"M17.41 7.96l-1.37-1.37c-.4-.4-.92-.59-1.43-.59-.52 0-1.04.2-1.43.59L10.3 9.45l-7.72 7.72c-.78.78-.78 2.05 0 2.83L4 21.41c.39.39.9.59 1.41.59.51 0 1.02-.2 1.41-.59l7.78-7.78 2.81-2.81c.8-.78.8-2.07 0-2.86zM5.41 20L4 18.59l7.72-7.72 1.47 1.35L5.41 20z\"/>\n",
              "  </svg>\n",
              "      </button>\n",
              "      \n",
              "  <style>\n",
              "    .colab-df-container {\n",
              "      display:flex;\n",
              "      flex-wrap:wrap;\n",
              "      gap: 12px;\n",
              "    }\n",
              "\n",
              "    .colab-df-convert {\n",
              "      background-color: #E8F0FE;\n",
              "      border: none;\n",
              "      border-radius: 50%;\n",
              "      cursor: pointer;\n",
              "      display: none;\n",
              "      fill: #1967D2;\n",
              "      height: 32px;\n",
              "      padding: 0 0 0 0;\n",
              "      width: 32px;\n",
              "    }\n",
              "\n",
              "    .colab-df-convert:hover {\n",
              "      background-color: #E2EBFA;\n",
              "      box-shadow: 0px 1px 2px rgba(60, 64, 67, 0.3), 0px 1px 3px 1px rgba(60, 64, 67, 0.15);\n",
              "      fill: #174EA6;\n",
              "    }\n",
              "\n",
              "    [theme=dark] .colab-df-convert {\n",
              "      background-color: #3B4455;\n",
              "      fill: #D2E3FC;\n",
              "    }\n",
              "\n",
              "    [theme=dark] .colab-df-convert:hover {\n",
              "      background-color: #434B5C;\n",
              "      box-shadow: 0px 1px 3px 1px rgba(0, 0, 0, 0.15);\n",
              "      filter: drop-shadow(0px 1px 2px rgba(0, 0, 0, 0.3));\n",
              "      fill: #FFFFFF;\n",
              "    }\n",
              "  </style>\n",
              "\n",
              "      <script>\n",
              "        const buttonEl =\n",
              "          document.querySelector('#df-af1c2617-710b-4cb6-b260-18ea6c0912d7 button.colab-df-convert');\n",
              "        buttonEl.style.display =\n",
              "          google.colab.kernel.accessAllowed ? 'block' : 'none';\n",
              "\n",
              "        async function convertToInteractive(key) {\n",
              "          const element = document.querySelector('#df-af1c2617-710b-4cb6-b260-18ea6c0912d7');\n",
              "          const dataTable =\n",
              "            await google.colab.kernel.invokeFunction('convertToInteractive',\n",
              "                                                     [key], {});\n",
              "          if (!dataTable) return;\n",
              "\n",
              "          const docLinkHtml = 'Like what you see? Visit the ' +\n",
              "            '<a target=\"_blank\" href=https://colab.research.google.com/notebooks/data_table.ipynb>data table notebook</a>'\n",
              "            + ' to learn more about interactive tables.';\n",
              "          element.innerHTML = '';\n",
              "          dataTable['output_type'] = 'display_data';\n",
              "          await google.colab.output.renderOutput(dataTable, element);\n",
              "          const docLink = document.createElement('div');\n",
              "          docLink.innerHTML = docLinkHtml;\n",
              "          element.appendChild(docLink);\n",
              "        }\n",
              "      </script>\n",
              "    </div>\n",
              "  </div>\n",
              "  "
            ],
            "text/plain": [
              "    resultado      c1     c2      c3      c4       c5       c6       c7  \\\n",
              "0           0  13.540  14.36   87.46   566.3  0.09779  0.08129  0.06664   \n",
              "1           0  13.080  15.71   85.63   520.0  0.10750  0.12700  0.04568   \n",
              "2           0   9.504  12.44   60.34   273.9  0.10240  0.06492  0.02956   \n",
              "3           0  13.030  18.42   82.61   523.8  0.08983  0.03766  0.02562   \n",
              "4           0   8.196  16.84   51.71   201.9  0.08600  0.05943  0.01588   \n",
              "..        ...     ...    ...     ...     ...      ...      ...      ...   \n",
              "513         1  15.050  19.07   97.26   701.9  0.09215  0.08597  0.07486   \n",
              "515         1  18.310  20.58  120.80  1052.0  0.10680  0.12480  0.15690   \n",
              "516         1  19.890  20.26  130.50  1214.0  0.10370  0.13100  0.14110   \n",
              "535         1  14.270  22.55   93.77   629.8  0.10380  0.11540  0.14630   \n",
              "565         1  16.600  28.08  108.30   858.1  0.08455  0.10230  0.09251   \n",
              "\n",
              "           c8      c9  ...     c21    c22     c23     c24      c25      c26  \\\n",
              "0    0.047810  0.1885  ...  15.110  19.26   99.70   711.2  0.14400  0.17730   \n",
              "1    0.031100  0.1967  ...  14.500  20.49   96.09   630.5  0.13120  0.27760   \n",
              "2    0.020760  0.1815  ...  10.230  15.66   65.13   314.9  0.13240  0.11480   \n",
              "3    0.029230  0.1467  ...  13.300  22.81   84.46   545.9  0.09701  0.04619   \n",
              "4    0.005917  0.1769  ...   8.964  21.96   57.26   242.2  0.12970  0.13570   \n",
              "..        ...     ...  ...     ...    ...     ...     ...      ...      ...   \n",
              "513  0.043350  0.1561  ...  17.580  28.06  113.80   967.0  0.12460  0.21010   \n",
              "515  0.094510  0.1860  ...  21.860  26.20  142.20  1493.0  0.14920  0.25360   \n",
              "516  0.094310  0.1802  ...  23.730  25.23  160.50  1646.0  0.14170  0.33090   \n",
              "535  0.061390  0.1926  ...  15.290  34.27  104.30   728.3  0.13800  0.27330   \n",
              "565  0.053020  0.1590  ...  18.980  34.12  126.70  1124.0  0.11390  0.30940   \n",
              "\n",
              "         c27      c28     c29      c30  \n",
              "0    0.23900  0.12880  0.2977  0.07259  \n",
              "1    0.18900  0.07283  0.3184  0.08183  \n",
              "2    0.08867  0.06227  0.2450  0.07773  \n",
              "3    0.04833  0.05013  0.1987  0.06169  \n",
              "4    0.06880  0.02564  0.3105  0.07409  \n",
              "..       ...      ...     ...      ...  \n",
              "513  0.28660  0.11200  0.2282  0.06954  \n",
              "515  0.37590  0.15100  0.3074  0.07863  \n",
              "516  0.41850  0.16130  0.2549  0.09136  \n",
              "535  0.42340  0.13620  0.2698  0.08351  \n",
              "565  0.34030  0.14180  0.2218  0.07820  \n",
              "\n",
              "[400 rows x 31 columns]"
            ]
          },
          "execution_count": 17,
          "metadata": {},
          "output_type": "execute_result"
        }
      ],
      "source": [
        "data_cruzada = pd.DataFrame(columns = data.columns)\n",
        "# iterar 39 veces, de 0 a 38 agregando 32 malignos y 8 benignos\n",
        "for i in range(0, 39):\n",
        "    data_cruzada = data_cruzada.append(data_benigno[i*8:i*8+8],ignore_index=True)\n",
        "    data_cruzada = data_cruzada.append(data_maligno[i*2:i*2+2],ignore_index=True)\n",
        "\n",
        "# tomar los registros faltantes y agregarlos\n",
        "data_cruzada = data_cruzada.append(data_benigno[312:])\n",
        "data_cruzada = data_cruzada.append(data_maligno[78:])\n",
        "data_cruzada"
      ]
    },
    {
      "cell_type": "markdown",
      "metadata": {
        "id": "OPUGtIm6FRCU"
      },
      "source": [
        "# 6. Se debe imprimir la matriz de confusión por cada validación del numeral anterior."
      ]
    },
    {
      "cell_type": "code",
      "execution_count": null,
      "metadata": {
        "id": "3jsMjZCXn9R8"
      },
      "outputs": [],
      "source": [
        "def confusion_matrix(y_true, y_pred):\n",
        "  tp = [0,0]\n",
        "  fn = [0,0]\n",
        "  tn = [0,0]\n",
        "  fp = [0,0]\n",
        "  sensibilidad = 0\n",
        "  especificidad = 0\n",
        "  precision = 0\n",
        "  for i in range(len(y_true)):\n",
        "      if y_true[i] == 0 and y_pred[i] == 0: # Verdadero negativo\n",
        "          tp[0]+=1\n",
        "          tn[1]+=1\n",
        "      elif y_true[i] == 0 and y_pred[i] == 1: # Falso positivo\n",
        "          fp[0]+=1\n",
        "          fn[1]+=1\n",
        "      elif y_true[i] == 1 and y_pred[i] == 0: # Falso negativo\n",
        "          fp[1]+=1\n",
        "          fn[0]+=1\n",
        "      elif y_true[i] == 1 and y_pred[i] == 1: # Verdadero positivo\n",
        "          tp[1]+=1\n",
        "          tn[0]+=1\n",
        "\n",
        "  sensibilidad = tp[1]/(tp[1]+fn[1])\n",
        "  especificidad = tn[1]/(tn[1]+fp[1])\n",
        "  precision = tp[1]/(tp[1]+fp[1])\n",
        "\n",
        "  confusion = pd.DataFrame({\n",
        "    \"Resultado\":[\"Benigno\",\"Maligno\"],\n",
        "    \"TP\": tp,\n",
        "    \"FN\":fn,\n",
        "    \"TN\":tn,\n",
        "    \"FP\":fp\n",
        "  })\n",
        "  return confusion,sensibilidad,especificidad,precision\n"
      ]
    },
    {
      "cell_type": "markdown",
      "metadata": {
        "id": "UCxQ3afpFXGE"
      },
      "source": [
        "# 7. El desempeño de este modelo debe ser encontrado al calcular las métricas de sensibilidad, especificidad y precisión."
      ]
    },
    {
      "cell_type": "markdown",
      "metadata": {
        "id": "xE2is65I3FwD"
      },
      "source": [
        "## Creación modelo 0"
      ]
    },
    {
      "cell_type": "code",
      "execution_count": null,
      "metadata": {
        "colab": {
          "base_uri": "https://localhost:8080/"
        },
        "id": "OyK89JMOjAK8",
        "outputId": "0de65659-443d-4dd0-d79f-7e411aac980e"
      },
      "outputs": [
        {
          "name": "stdout",
          "output_type": "stream",
          "text": [
            "  Resultado  TP  FN  TN  FP\n",
            "0   Benigno  30   4   4   2\n",
            "1   Maligno   4   2  30   4\n",
            "Sensibilidad: 0.6666666666666666\n",
            "Especificidad: 0.8823529411764706\n",
            "Precision: 0.5\n",
            "  Resultado  TP  FN  TN  FP\n",
            "0   Benigno  32   1   7   0\n",
            "1   Maligno   7   0  32   1\n",
            "Sensibilidad: 1.0\n",
            "Especificidad: 0.9696969696969697\n",
            "Precision: 0.875\n",
            "  Resultado  TP  FN  TN  FP\n",
            "0   Benigno  32   2   6   0\n",
            "1   Maligno   6   0  32   2\n",
            "Sensibilidad: 1.0\n",
            "Especificidad: 0.9411764705882353\n",
            "Precision: 0.75\n",
            "  Resultado  TP  FN  TN  FP\n",
            "0   Benigno  32   1   7   0\n",
            "1   Maligno   7   0  32   1\n",
            "Sensibilidad: 1.0\n",
            "Especificidad: 0.9696969696969697\n",
            "Precision: 0.875\n",
            "  Resultado  TP  FN  TN  FP\n",
            "0   Benigno  32   1   7   0\n",
            "1   Maligno   7   0  32   1\n",
            "Sensibilidad: 1.0\n",
            "Especificidad: 0.9696969696969697\n",
            "Precision: 0.875\n",
            "  Resultado  TP  FN  TN  FP\n",
            "0   Benigno  32   1   7   0\n",
            "1   Maligno   7   0  32   1\n",
            "Sensibilidad: 1.0\n",
            "Especificidad: 0.9696969696969697\n",
            "Precision: 0.875\n",
            "  Resultado  TP  FN  TN  FP\n",
            "0   Benigno  32   1   7   0\n",
            "1   Maligno   7   0  32   1\n",
            "Sensibilidad: 1.0\n",
            "Especificidad: 0.9696969696969697\n",
            "Precision: 0.875\n",
            "  Resultado  TP  FN  TN  FP\n",
            "0   Benigno  32   0   8   0\n",
            "1   Maligno   8   0  32   0\n",
            "Sensibilidad: 1.0\n",
            "Especificidad: 1.0\n",
            "Precision: 1.0\n",
            "  Resultado  TP  FN  TN  FP\n",
            "0   Benigno  32   1   7   0\n",
            "1   Maligno   7   0  32   1\n",
            "Sensibilidad: 1.0\n",
            "Especificidad: 0.9696969696969697\n",
            "Precision: 0.875\n",
            "  Resultado  TP  FN  TN  FP\n",
            "0   Benigno  13  21   6   0\n",
            "1   Maligno   6   0  13  21\n",
            "Sensibilidad: 1.0\n",
            "Especificidad: 0.38235294117647056\n",
            "Precision: 0.2222222222222222\n"
          ]
        }
      ],
      "source": [
        "espe0 = 0\n",
        "sen0 = 0\n",
        "\n",
        "for i in range(0,len(new_data),40):\n",
        "  data_test = data_cruzada.iloc[i:i+40]\n",
        "  data_train =  pd.concat([data_cruzada.iloc[:i],data_cruzada.iloc[i+40:]])\n",
        "  x_train = data_train.iloc[:,[8,21,23,28]].values\n",
        "  x_test = data_train.iloc[:,[8,21,23,28]].values\n",
        "\n",
        "  y_train = data_train.iloc[:, 0].values.astype('int')\n",
        "  y_test = data_test.iloc[:, 0].values.astype('int')\n",
        "\n",
        "  modelo = KNeighborsClassifier(n_neighbors=5)\n",
        "  modelo.fit(x_train,y_train)\n",
        "  y_pred = modelo.predict(x_test)\n",
        "  matriz,s,e,p = confusion_matrix(y_test,y_pred)\n",
        "  print(matriz)\n",
        "  print('Sensibilidad:',s)\n",
        "  print('Especificidad:',e)\n",
        "  print('Precision:',p)\n",
        "  espe0 += e\n",
        "  sen0 += s\n",
        "\n",
        "#Promedio de la especificidad y la sensibilidad\n",
        "espe0 = 1 - (espe0/10)\n",
        "sen0 = sen0/10"
      ]
    },
    {
      "cell_type": "markdown",
      "metadata": {
        "id": "NhpLrcvOFe60"
      },
      "source": [
        "# 8. Deben desarrollar al menos 4 modelos diferentes en busca del mejor desempeño posible (Se debe evidenciar la numerosas pruebas realizadas) y decidir en base de una curva ROC cual de ellos es mejor"
      ]
    },
    {
      "cell_type": "markdown",
      "metadata": {
        "id": "ijQngz0poH4P"
      },
      "source": [
        "## Para la creación de cada modelo se usaron las características que superan el 70% de correlación"
      ]
    },
    {
      "cell_type": "markdown",
      "metadata": {
        "id": "iAxp3q0JBn0R"
      },
      "source": [
        "## Modelo 1"
      ]
    },
    {
      "cell_type": "code",
      "execution_count": null,
      "metadata": {
        "id": "_NKqtNS2Bm3R"
      },
      "outputs": [],
      "source": [
        "espe1 = 0\n",
        "sen1 = 0\n",
        "for i in range(0,len(new_data),40):\n",
        "  caracteristicas= [1,3,8,21,23,24,28]\n",
        "  data_test = data_cruzada.iloc[i:i+40]\n",
        "  data_train =  pd.concat([data_cruzada.iloc[:i],data_cruzada.iloc[i+40:]])\n",
        "  x_train = data_train.iloc[:,caracteristicas].values\n",
        "  x_test = data_train.iloc[:,caracteristicas].values\n",
        "\n",
        "  y_train = data_train.iloc[:, 0].values.astype('int')\n",
        "  y_test = data_test.iloc[:, 0].values.astype('int')\n",
        "\n",
        "  modelo = KNeighborsClassifier(n_neighbors=5)\n",
        "  modelo.fit(x_train,y_train)\n",
        "  y_pred = modelo.predict(x_test)\n",
        "  matriz,s,e,p = confusion_matrix(y_test,y_pred)\n",
        "  espe1 += e\n",
        "  sen1 += s\n",
        "\n",
        "espe1 = 1 - (espe1/10)\n",
        "sen1 = sen1/10"
      ]
    },
    {
      "cell_type": "markdown",
      "metadata": {
        "id": "FUQAC3aYBqAB"
      },
      "source": [
        "## Modelo 2"
      ]
    },
    {
      "cell_type": "code",
      "execution_count": null,
      "metadata": {
        "id": "Planld1HBunx"
      },
      "outputs": [],
      "source": [
        "espe2 = 0\n",
        "sen2 = 0\n",
        "for i in range(0,len(new_data),40):\n",
        "  caracteristicas= [1,3,8,21]\n",
        "  data_test = data_cruzada.iloc[i:i+40]\n",
        "  data_train =  pd.concat([data_cruzada.iloc[:i],data_cruzada.iloc[i+40:]])\n",
        "  x_train = data_train.iloc[:,caracteristicas].values\n",
        "  x_test = data_train.iloc[:,caracteristicas].values\n",
        "\n",
        "  y_train = data_train.iloc[:, 0].values.astype('int')\n",
        "  y_test = data_test.iloc[:, 0].values.astype('int')\n",
        "\n",
        "  modelo = KNeighborsClassifier(n_neighbors=5)\n",
        "  modelo.fit(x_train,y_train)\n",
        "  y_pred = modelo.predict(x_test)\n",
        "  matriz,s,e,p = confusion_matrix(y_test,y_pred)\n",
        "  espe2 += e\n",
        "  sen2 += s\n",
        "\n",
        "espe2 = 1 - (espe2/10)\n",
        "sen2 = sen2/10"
      ]
    },
    {
      "cell_type": "markdown",
      "metadata": {
        "id": "BzbvKbhFBrpp"
      },
      "source": [
        "## Modelo 3"
      ]
    },
    {
      "cell_type": "code",
      "execution_count": null,
      "metadata": {
        "id": "3jYL3pIWBvTZ"
      },
      "outputs": [],
      "source": [
        "espe3 = 0\n",
        "sen3 = 0\n",
        "for i in range(0,len(new_data),40):\n",
        "  caracteristicas= [21,23,24,28]\n",
        "  data_test = data_cruzada.iloc[i:i+40]\n",
        "  data_train =  pd.concat([data_cruzada.iloc[:i],data_cruzada.iloc[i+40:]])\n",
        "  x_train = data_train.iloc[:,caracteristicas].values\n",
        "  x_test = data_train.iloc[:,caracteristicas].values\n",
        "\n",
        "  y_train = data_train.iloc[:, 0].values.astype('int')\n",
        "  y_test = data_test.iloc[:, 0].values.astype('int')\n",
        "\n",
        "  modelo = KNeighborsClassifier(n_neighbors=5)\n",
        "  modelo.fit(x_train,y_train)\n",
        "  y_pred = modelo.predict(x_test)\n",
        "  matriz,s,e,p = confusion_matrix(y_test,y_pred)\n",
        "  espe3 += e\n",
        "  sen3 += s\n",
        "\n",
        "espe3 = 1 - (espe3/10)\n",
        "sen3 = sen3/10"
      ]
    },
    {
      "cell_type": "markdown",
      "metadata": {
        "id": "4vUpXXrNBs8Z"
      },
      "source": [
        "## Modelo 4"
      ]
    },
    {
      "cell_type": "code",
      "execution_count": null,
      "metadata": {
        "id": "O1qEvs2iBwQp"
      },
      "outputs": [],
      "source": [
        "espe4 = 0\n",
        "sen4 = 0\n",
        "\n",
        "for i in range(0,len(new_data),40):\n",
        "  caracteristicas= [8,21,23]\n",
        "  data_test = data_cruzada.iloc[i:i+40]\n",
        "  data_train =  pd.concat([data_cruzada.iloc[:i],data_cruzada.iloc[i+40:]])\n",
        "  x_train = data_train.iloc[:,caracteristicas].values\n",
        "  x_test = data_train.iloc[:,caracteristicas].values\n",
        "\n",
        "  y_train = data_train.iloc[:, 0].values.astype('int')\n",
        "  y_test = data_test.iloc[:, 0].values.astype('int')\n",
        "\n",
        "  modelo = KNeighborsClassifier(n_neighbors=5)\n",
        "  modelo.fit(x_train,y_train)\n",
        "  y_pred = modelo.predict(x_test)\n",
        "  matriz,s,e,p = confusion_matrix(y_test,y_pred)\n",
        "  espe4 += e\n",
        "  sen4 += s\n",
        "\n",
        "espe4 = 1 - (espe4/10)\n",
        "sen4 = sen4/10"
      ]
    },
    {
      "cell_type": "markdown",
      "metadata": {
        "id": "Z26ynQ8GQYLL"
      },
      "source": [
        "## Curva ROC"
      ]
    },
    {
      "cell_type": "code",
      "execution_count": null,
      "metadata": {
        "colab": {
          "base_uri": "https://localhost:8080/",
          "height": 295
        },
        "id": "C6ESnZ3OQa0k",
        "outputId": "0a097d41-057b-4ee6-ca6f-33a7bfb140a5"
      },
      "outputs": [
        {
          "data": {
            "image/png": "[encoded data removed]",
            "text/plain": [
              "<Figure size 432x288 with 1 Axes>"
            ]
          },
          "metadata": {
            "needs_background": "light"
          },
          "output_type": "display_data"
        }
      ],
      "source": [
        "roc_x = [espe0,espe1,espe2,espe3,espe4]\n",
        "roc_y = [sen0,sen1,sen2,sen3,sen4]\n",
        "nombres = ['M0','M1','M2','M3','M4']\n",
        "colores = ['blue','red', 'green', 'grey', 'yellow']\n",
        "\n",
        "plt.scatter(roc_x, roc_y,c=colores)\n",
        "\n",
        "for i, nombre in enumerate(nombres):\n",
        "    plt.annotate(nombre, (roc_x[i], roc_y[i]))\n",
        "\n",
        "plt.title('Gráfica de los 5 modelos')\n",
        "plt.xlabel('1 - Especificidad')\n",
        "plt.ylabel('Sensibilidad')\n",
        "\n",
        "plt.show()"
      ]
    },
    {
      "cell_type": "markdown",
      "metadata": {
        "id": "vNSyiVDE4rB8"
      },
      "source": [
        "### Mejor modelo KNN"
      ]
    },
    {
      "cell_type": "code",
      "execution_count": null,
      "metadata": {
        "colab": {
          "base_uri": "https://localhost:8080/"
        },
        "id": "8MHuxYM-0ORi",
        "outputId": "770d9818-8236-421b-800f-deea3720212f"
      },
      "outputs": [
        {
          "name": "stdout",
          "output_type": "stream",
          "text": [
            "El mejor modelo es: M3\n",
            "[0.10312913522360984, 0.10185317360079563, 0.1217634621861438, 0.09598949560766289, 0.10312913522360984]\n"
          ]
        }
      ],
      "source": [
        "# calcular la distancia de cada punto a la esquina superior izquierda donde tendrá la mejor especificidad y sensibilidad\n",
        "distancias = []\n",
        "for p in range(0,len(nombres)):\n",
        "    distancia = math.sqrt((0 - roc_x[p])**2 + (1 - roc_y[p])**2)\n",
        "    distancias.append(distancia)\n",
        "\n",
        "# obtener el índice del punto más cercano\n",
        "indice = distancias.index(min(distancias))\n",
        "\n",
        "# obtener el punto más cercano\n",
        "punto_mas_cercano = nombres[indice]\n",
        "\n",
        "print(\"El mejor modelo es:\", punto_mas_cercano)\n",
        "print(distancias)"
      ]
    },
    {
      "cell_type": "markdown",
      "metadata": {
        "id": "dnJthdu4Oj_8"
      },
      "source": [
        "### Mejor modelo regresión logística"
      ]
    },
    {
      "cell_type": "code",
      "execution_count": null,
      "metadata": {
        "colab": {
          "base_uri": "https://localhost:8080/"
        },
        "id": "EjQpE70eOmtk",
        "outputId": "7b642ccf-9c73-4789-f9d0-01facfd773f7"
      },
      "outputs": [
        {
          "name": "stdout",
          "output_type": "stream",
          "text": [
            "  Resultado  TP  FN  TN  FP\n",
            "0   Benigno  30   4   4   2\n",
            "1   Maligno   4   2  30   4\n",
            "Sensibilidad: 0.6666666666666666\n",
            "Especificidad: 0.8823529411764706\n",
            "Precision: 0.5\n",
            "  Resultado  TP  FN  TN  FP\n",
            "0   Benigno  32   1   7   0\n",
            "1   Maligno   7   0  32   1\n",
            "Sensibilidad: 1.0\n",
            "Especificidad: 0.9696969696969697\n",
            "Precision: 0.875\n",
            "  Resultado  TP  FN  TN  FP\n",
            "0   Benigno  32   1   7   0\n",
            "1   Maligno   7   0  32   1\n",
            "Sensibilidad: 1.0\n",
            "Especificidad: 0.9696969696969697\n",
            "Precision: 0.875\n",
            "  Resultado  TP  FN  TN  FP\n",
            "0   Benigno  32   2   6   0\n",
            "1   Maligno   6   0  32   2\n",
            "Sensibilidad: 1.0\n",
            "Especificidad: 0.9411764705882353\n",
            "Precision: 0.75\n",
            "  Resultado  TP  FN  TN  FP\n",
            "0   Benigno  32   1   7   0\n",
            "1   Maligno   7   0  32   1\n",
            "Sensibilidad: 1.0\n",
            "Especificidad: 0.9696969696969697\n",
            "Precision: 0.875\n",
            "  Resultado  TP  FN  TN  FP\n",
            "0   Benigno  32   1   7   0\n",
            "1   Maligno   7   0  32   1\n",
            "Sensibilidad: 1.0\n",
            "Especificidad: 0.9696969696969697\n",
            "Precision: 0.875\n",
            "  Resultado  TP  FN  TN  FP\n",
            "0   Benigno  32   1   7   0\n",
            "1   Maligno   7   0  32   1\n",
            "Sensibilidad: 1.0\n",
            "Especificidad: 0.9696969696969697\n",
            "Precision: 0.875\n",
            "  Resultado  TP  FN  TN  FP\n",
            "0   Benigno  32   1   7   0\n",
            "1   Maligno   7   0  32   1\n",
            "Sensibilidad: 1.0\n",
            "Especificidad: 0.9696969696969697\n",
            "Precision: 0.875\n",
            "  Resultado  TP  FN  TN  FP\n",
            "0   Benigno  32   0   8   0\n",
            "1   Maligno   8   0  32   0\n",
            "Sensibilidad: 1.0\n",
            "Especificidad: 1.0\n",
            "Precision: 1.0\n",
            "  Resultado  TP  FN  TN  FP\n",
            "0   Benigno  13  21   6   0\n",
            "1   Maligno   6   0  13  21\n",
            "Sensibilidad: 1.0\n",
            "Especificidad: 0.38235294117647056\n",
            "Precision: 0.2222222222222222\n"
          ]
        }
      ],
      "source": [
        "loge = 0\n",
        "logs = 0\n",
        "\n",
        "for i in range(0,len(new_data),40):\n",
        "  data_test = data_cruzada.iloc[i:i+40]\n",
        "  data_train =  pd.concat([data_cruzada.iloc[:i],data_cruzada.iloc[i+40:]])\n",
        "  x_train = data_train.iloc[:,[8,21,23,28]].values\n",
        "  x_test = data_train.iloc[:,[8,21,23,28]].values\n",
        "\n",
        "  y_train = data_train.iloc[:, 0].values.astype('int')\n",
        "  y_test = data_test.iloc[:, 0].values.astype('int')\n",
        "\n",
        "  modelo = LogisticRegression()\n",
        "  modelo.fit(x_train,y_train)\n",
        "  y_pred = modelo.predict(x_test)\n",
        "  matriz,s,e,p = confusion_matrix(y_test,y_pred)\n",
        "  print(matriz)\n",
        "  print('Sensibilidad:',s)\n",
        "  print('Especificidad:',e)\n",
        "  print('Precision:',p)\n",
        "  loge += e\n",
        "  logs += s\n",
        "\n",
        "#Promedio de la especificidad y la sensibilidad\n",
        "loge = 1 - (loge/10)\n",
        "logs = logs/10"
      ]
    },
    {
      "cell_type": "markdown",
      "metadata": {
        "id": "TCH4deN0PSES"
      },
      "source": [
        "# Fusión Modelos KNN y regresión logística"
      ]
    },
    {
      "cell_type": "code",
      "execution_count": null,
      "metadata": {
        "id": "ahUsiDuoP0el"
      },
      "outputs": [],
      "source": [
        "caracteristicas = new_data[columnas[2:]]\n",
        "x_train,x_test,y_train,y_test = train_test_split(caracteristicas,new_data['resultado'], train_size= 0.5)\n",
        "\n",
        "modelo_knn = KNeighborsClassifier(n_neighbors=5)\n",
        "modelo_knn.fit(x_train[['c21','c23','c24','c28']],y_train)\n",
        "y_pred_knn = modelo_knn.predict(x_test[['c21','c23','c24','c28']])\n",
        "\n",
        "modelo_log = LogisticRegression()\n",
        "modelo_log.fit(x_train[['c8','c21','c23','c28']],y_train)\n",
        "y_pred_log = modelo_log.predict(x_test[['c8','c21','c23','c28']])\n",
        "\n",
        "y_test = np.array(y_test)"
      ]
    },
    {
      "cell_type": "markdown",
      "metadata": {
        "id": "um2leGw5PWdJ"
      },
      "source": [
        "## AND"
      ]
    },
    {
      "cell_type": "code",
      "execution_count": null,
      "metadata": {
        "colab": {
          "base_uri": "https://localhost:8080/"
        },
        "id": "628_Q4J1PY2K",
        "outputId": "0ddd837b-c75c-440d-90e5-669037d8a112"
      },
      "outputs": [
        {
          "name": "stdout",
          "output_type": "stream",
          "text": [
            "  Resultado   TP  FN   TN  FP\n",
            "0   Benigno  147  15   35   3\n",
            "1   Maligno   35   3  147  15\n",
            "Sensibilidad: 0.9210526315789473\n",
            "Especificidad: 0.9074074074074074\n",
            "Precision: 0.7\n"
          ]
        }
      ],
      "source": [
        "fus_and=[]\n",
        "for i in range(0,len(y_pred_knn)):\n",
        "  if ((y_pred_knn[i] == 1) & (y_pred_log[i] == 1)):\n",
        "    fus_and.append(1)\n",
        "  else:\n",
        "    fus_and.append(0)\n",
        "\n",
        "matriz,s,e,p = confusion_matrix(y_test,fus_and)\n",
        "print(matriz)\n",
        "print('Sensibilidad:',s)\n",
        "print('Especificidad:',e)\n",
        "print('Precision:',p)"
      ]
    },
    {
      "cell_type": "markdown",
      "metadata": {
        "id": "b2bFmga4PXph"
      },
      "source": [
        "## OR"
      ]
    },
    {
      "cell_type": "code",
      "execution_count": null,
      "metadata": {
        "colab": {
          "base_uri": "https://localhost:8080/"
        },
        "id": "HRQcKrf5bwYX",
        "outputId": "7059f0f6-5292-4454-c229-70014e40bcac"
      },
      "outputs": [
        {
          "name": "stdout",
          "output_type": "stream",
          "text": [
            "  Resultado   TP  FN   TN  FP\n",
            "0   Benigno  142  12   38   8\n",
            "1   Maligno   38   8  142  12\n",
            "Sensibilidad: 0.8260869565217391\n",
            "Especificidad: 0.922077922077922\n",
            "Precision: 0.76\n"
          ]
        }
      ],
      "source": [
        "fus_or=[]\n",
        "for i in range(0,len(y_pred_knn)):\n",
        "  if ((y_pred_knn[i] == 1) | (y_pred_log[i] == 1)):\n",
        "    fus_or.append(1)\n",
        "  else:\n",
        "    fus_or.append(0)\n",
        "\n",
        "matriz,s,e,p = confusion_matrix(y_test,fus_or)\n",
        "print(matriz)\n",
        "print('Sensibilidad:',s)\n",
        "print('Especificidad:',e)\n",
        "print('Precision:',p)"
      ]
    }
  ],
  "metadata": {
    "colab": {
      "collapsed_sections": [
        "nT0uCxfdAvg0",
        "n5n1F4iPSdj1",
        "DC6bzf4vS1zN",
        "OPUGtIm6FRCU"
      ],
      "provenance": [],
      "toc_visible": true
    },
    "kernelspec": {
      "display_name": "Python 3",
      "name": "python3"
    },
    "language_info": {
      "name": "python"
    }
  },
  "nbformat": 4,
  "nbformat_minor": 0
}
